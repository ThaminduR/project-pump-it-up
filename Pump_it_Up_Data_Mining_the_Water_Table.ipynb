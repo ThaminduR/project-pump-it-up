{
  "nbformat": 4,
  "nbformat_minor": 0,
  "metadata": {
    "colab": {
      "name": "Pump it Up: Data Mining the Water Table.ipynb",
      "provenance": [],
      "collapsed_sections": [
        "o663kOXug9Dd"
      ]
    },
    "kernelspec": {
      "name": "python3",
      "display_name": "Python 3"
    },
    "language_info": {
      "name": "python"
    },
    "accelerator": "GPU"
  },
  "cells": [
    {
      "cell_type": "markdown",
      "metadata": {
        "id": "ugJVH_3vg_4G"
      },
      "source": [
        "## Import Libraries and Data"
      ]
    },
    {
      "cell_type": "code",
      "metadata": {
        "id": "H2BAaSPv4-Xb"
      },
      "source": [
        "#Download Data"
      ],
      "execution_count": null,
      "outputs": []
    },
    {
      "cell_type": "code",
      "metadata": {
        "id": "TbQJ2CDWBiA6"
      },
      "source": [
        "import pandas as pd\n",
        "import numpy as np\n",
        "import xgboost as xgb\n",
        "from xgboost.sklearn import XGBClassifier\n",
        "from sklearn.ensemble import RandomForestClassifier\n",
        "from sklearn import metrics\n",
        "from sklearn.model_selection import GridSearchCV, cross_val_score, train_test_split\n",
        "\n",
        "import matplotlib.pyplot as plt\n",
        "import seaborn as sns\n",
        "%matplotlib inline\n",
        "from matplotlib.pylab import rcParams\n",
        "rcParams['figure.figsize'] = 12, 4\n",
        "\n",
        "X = pd.read_csv('/content/data/X_train.csv')\n",
        "y = pd.read_csv('/content/data/y_train.csv')\n",
        "test = pd.read_csv('/content/data/X_test.csv')"
      ],
      "execution_count": 322,
      "outputs": []
    },
    {
      "cell_type": "code",
      "metadata": {
        "id": "Jr5Whs3knef4"
      },
      "source": [
        "X.set_index('id',inplace=True)\n",
        "y.set_index('id',inplace=True)\n",
        "X = pd.merge(y, X, how = 'inner', left_index = True,right_index=True)\n",
        "X.reset_index(inplace=True)"
      ],
      "execution_count": 323,
      "outputs": []
    },
    {
      "cell_type": "markdown",
      "metadata": {
        "id": "o663kOXug9Dd"
      },
      "source": [
        "## EDA"
      ]
    },
    {
      "cell_type": "markdown",
      "metadata": {
        "id": "Uvmsj4zsLGD0"
      },
      "source": [
        "### First look at the data"
      ]
    },
    {
      "cell_type": "code",
      "metadata": {
        "colab": {
          "base_uri": "https://localhost:8080/"
        },
        "id": "w3tnWBBnhoBQ",
        "outputId": "d9009134-eb20-44f4-d07f-8fdfefea36d2"
      },
      "source": [
        "print(y.status_group.unique())\n",
        "print(y.status_group.value_counts())"
      ],
      "execution_count": 324,
      "outputs": [
        {
          "output_type": "stream",
          "name": "stdout",
          "text": [
            "['functional' 'non functional' 'functional needs repair']\n",
            "functional                 32259\n",
            "non functional             22824\n",
            "functional needs repair     4317\n",
            "Name: status_group, dtype: int64\n"
          ]
        }
      ]
    },
    {
      "cell_type": "markdown",
      "metadata": {
        "id": "VB6gxFhWh67Z"
      },
      "source": [
        "- There are 3 classes present in the target column\n",
        "- Imbalanced data. The 3rd class, \"functional needs repair\" has significantly less data than other two."
      ]
    },
    {
      "cell_type": "code",
      "metadata": {
        "id": "KJ3w0gliDwl4",
        "colab": {
          "base_uri": "https://localhost:8080/",
          "height": 411
        },
        "outputId": "af778af1-758d-4d75-9bc0-3fbdd753ed69"
      },
      "source": [
        "X.head()"
      ],
      "execution_count": 325,
      "outputs": [
        {
          "output_type": "execute_result",
          "data": {
            "text/html": [
              "<div>\n",
              "<style scoped>\n",
              "    .dataframe tbody tr th:only-of-type {\n",
              "        vertical-align: middle;\n",
              "    }\n",
              "\n",
              "    .dataframe tbody tr th {\n",
              "        vertical-align: top;\n",
              "    }\n",
              "\n",
              "    .dataframe thead th {\n",
              "        text-align: right;\n",
              "    }\n",
              "</style>\n",
              "<table border=\"1\" class=\"dataframe\">\n",
              "  <thead>\n",
              "    <tr style=\"text-align: right;\">\n",
              "      <th></th>\n",
              "      <th>id</th>\n",
              "      <th>status_group</th>\n",
              "      <th>amount_tsh</th>\n",
              "      <th>date_recorded</th>\n",
              "      <th>funder</th>\n",
              "      <th>gps_height</th>\n",
              "      <th>installer</th>\n",
              "      <th>longitude</th>\n",
              "      <th>latitude</th>\n",
              "      <th>wpt_name</th>\n",
              "      <th>num_private</th>\n",
              "      <th>basin</th>\n",
              "      <th>subvillage</th>\n",
              "      <th>region</th>\n",
              "      <th>region_code</th>\n",
              "      <th>district_code</th>\n",
              "      <th>lga</th>\n",
              "      <th>ward</th>\n",
              "      <th>population</th>\n",
              "      <th>public_meeting</th>\n",
              "      <th>recorded_by</th>\n",
              "      <th>scheme_management</th>\n",
              "      <th>scheme_name</th>\n",
              "      <th>permit</th>\n",
              "      <th>construction_year</th>\n",
              "      <th>extraction_type</th>\n",
              "      <th>extraction_type_group</th>\n",
              "      <th>extraction_type_class</th>\n",
              "      <th>management</th>\n",
              "      <th>management_group</th>\n",
              "      <th>payment</th>\n",
              "      <th>payment_type</th>\n",
              "      <th>water_quality</th>\n",
              "      <th>quality_group</th>\n",
              "      <th>quantity</th>\n",
              "      <th>quantity_group</th>\n",
              "      <th>source</th>\n",
              "      <th>source_type</th>\n",
              "      <th>source_class</th>\n",
              "      <th>waterpoint_type</th>\n",
              "      <th>waterpoint_type_group</th>\n",
              "    </tr>\n",
              "  </thead>\n",
              "  <tbody>\n",
              "    <tr>\n",
              "      <th>0</th>\n",
              "      <td>69572</td>\n",
              "      <td>functional</td>\n",
              "      <td>6000.0</td>\n",
              "      <td>2011-03-14</td>\n",
              "      <td>Roman</td>\n",
              "      <td>1390</td>\n",
              "      <td>Roman</td>\n",
              "      <td>34.938093</td>\n",
              "      <td>-9.856322</td>\n",
              "      <td>none</td>\n",
              "      <td>0</td>\n",
              "      <td>Lake Nyasa</td>\n",
              "      <td>Mnyusi B</td>\n",
              "      <td>Iringa</td>\n",
              "      <td>11</td>\n",
              "      <td>5</td>\n",
              "      <td>Ludewa</td>\n",
              "      <td>Mundindi</td>\n",
              "      <td>109</td>\n",
              "      <td>True</td>\n",
              "      <td>GeoData Consultants Ltd</td>\n",
              "      <td>VWC</td>\n",
              "      <td>Roman</td>\n",
              "      <td>False</td>\n",
              "      <td>1999</td>\n",
              "      <td>gravity</td>\n",
              "      <td>gravity</td>\n",
              "      <td>gravity</td>\n",
              "      <td>vwc</td>\n",
              "      <td>user-group</td>\n",
              "      <td>pay annually</td>\n",
              "      <td>annually</td>\n",
              "      <td>soft</td>\n",
              "      <td>good</td>\n",
              "      <td>enough</td>\n",
              "      <td>enough</td>\n",
              "      <td>spring</td>\n",
              "      <td>spring</td>\n",
              "      <td>groundwater</td>\n",
              "      <td>communal standpipe</td>\n",
              "      <td>communal standpipe</td>\n",
              "    </tr>\n",
              "    <tr>\n",
              "      <th>1</th>\n",
              "      <td>8776</td>\n",
              "      <td>functional</td>\n",
              "      <td>0.0</td>\n",
              "      <td>2013-03-06</td>\n",
              "      <td>Grumeti</td>\n",
              "      <td>1399</td>\n",
              "      <td>GRUMETI</td>\n",
              "      <td>34.698766</td>\n",
              "      <td>-2.147466</td>\n",
              "      <td>Zahanati</td>\n",
              "      <td>0</td>\n",
              "      <td>Lake Victoria</td>\n",
              "      <td>Nyamara</td>\n",
              "      <td>Mara</td>\n",
              "      <td>20</td>\n",
              "      <td>2</td>\n",
              "      <td>Serengeti</td>\n",
              "      <td>Natta</td>\n",
              "      <td>280</td>\n",
              "      <td>NaN</td>\n",
              "      <td>GeoData Consultants Ltd</td>\n",
              "      <td>Other</td>\n",
              "      <td>NaN</td>\n",
              "      <td>True</td>\n",
              "      <td>2010</td>\n",
              "      <td>gravity</td>\n",
              "      <td>gravity</td>\n",
              "      <td>gravity</td>\n",
              "      <td>wug</td>\n",
              "      <td>user-group</td>\n",
              "      <td>never pay</td>\n",
              "      <td>never pay</td>\n",
              "      <td>soft</td>\n",
              "      <td>good</td>\n",
              "      <td>insufficient</td>\n",
              "      <td>insufficient</td>\n",
              "      <td>rainwater harvesting</td>\n",
              "      <td>rainwater harvesting</td>\n",
              "      <td>surface</td>\n",
              "      <td>communal standpipe</td>\n",
              "      <td>communal standpipe</td>\n",
              "    </tr>\n",
              "    <tr>\n",
              "      <th>2</th>\n",
              "      <td>34310</td>\n",
              "      <td>functional</td>\n",
              "      <td>25.0</td>\n",
              "      <td>2013-02-25</td>\n",
              "      <td>Lottery Club</td>\n",
              "      <td>686</td>\n",
              "      <td>World vision</td>\n",
              "      <td>37.460664</td>\n",
              "      <td>-3.821329</td>\n",
              "      <td>Kwa Mahundi</td>\n",
              "      <td>0</td>\n",
              "      <td>Pangani</td>\n",
              "      <td>Majengo</td>\n",
              "      <td>Manyara</td>\n",
              "      <td>21</td>\n",
              "      <td>4</td>\n",
              "      <td>Simanjiro</td>\n",
              "      <td>Ngorika</td>\n",
              "      <td>250</td>\n",
              "      <td>True</td>\n",
              "      <td>GeoData Consultants Ltd</td>\n",
              "      <td>VWC</td>\n",
              "      <td>Nyumba ya mungu pipe scheme</td>\n",
              "      <td>True</td>\n",
              "      <td>2009</td>\n",
              "      <td>gravity</td>\n",
              "      <td>gravity</td>\n",
              "      <td>gravity</td>\n",
              "      <td>vwc</td>\n",
              "      <td>user-group</td>\n",
              "      <td>pay per bucket</td>\n",
              "      <td>per bucket</td>\n",
              "      <td>soft</td>\n",
              "      <td>good</td>\n",
              "      <td>enough</td>\n",
              "      <td>enough</td>\n",
              "      <td>dam</td>\n",
              "      <td>dam</td>\n",
              "      <td>surface</td>\n",
              "      <td>communal standpipe multiple</td>\n",
              "      <td>communal standpipe</td>\n",
              "    </tr>\n",
              "    <tr>\n",
              "      <th>3</th>\n",
              "      <td>67743</td>\n",
              "      <td>non functional</td>\n",
              "      <td>0.0</td>\n",
              "      <td>2013-01-28</td>\n",
              "      <td>Unicef</td>\n",
              "      <td>263</td>\n",
              "      <td>UNICEF</td>\n",
              "      <td>38.486161</td>\n",
              "      <td>-11.155298</td>\n",
              "      <td>Zahanati Ya Nanyumbu</td>\n",
              "      <td>0</td>\n",
              "      <td>Ruvuma / Southern Coast</td>\n",
              "      <td>Mahakamani</td>\n",
              "      <td>Mtwara</td>\n",
              "      <td>90</td>\n",
              "      <td>63</td>\n",
              "      <td>Nanyumbu</td>\n",
              "      <td>Nanyumbu</td>\n",
              "      <td>58</td>\n",
              "      <td>True</td>\n",
              "      <td>GeoData Consultants Ltd</td>\n",
              "      <td>VWC</td>\n",
              "      <td>NaN</td>\n",
              "      <td>True</td>\n",
              "      <td>1986</td>\n",
              "      <td>submersible</td>\n",
              "      <td>submersible</td>\n",
              "      <td>submersible</td>\n",
              "      <td>vwc</td>\n",
              "      <td>user-group</td>\n",
              "      <td>never pay</td>\n",
              "      <td>never pay</td>\n",
              "      <td>soft</td>\n",
              "      <td>good</td>\n",
              "      <td>dry</td>\n",
              "      <td>dry</td>\n",
              "      <td>machine dbh</td>\n",
              "      <td>borehole</td>\n",
              "      <td>groundwater</td>\n",
              "      <td>communal standpipe multiple</td>\n",
              "      <td>communal standpipe</td>\n",
              "    </tr>\n",
              "    <tr>\n",
              "      <th>4</th>\n",
              "      <td>19728</td>\n",
              "      <td>functional</td>\n",
              "      <td>0.0</td>\n",
              "      <td>2011-07-13</td>\n",
              "      <td>Action In A</td>\n",
              "      <td>0</td>\n",
              "      <td>Artisan</td>\n",
              "      <td>31.130847</td>\n",
              "      <td>-1.825359</td>\n",
              "      <td>Shuleni</td>\n",
              "      <td>0</td>\n",
              "      <td>Lake Victoria</td>\n",
              "      <td>Kyanyamisa</td>\n",
              "      <td>Kagera</td>\n",
              "      <td>18</td>\n",
              "      <td>1</td>\n",
              "      <td>Karagwe</td>\n",
              "      <td>Nyakasimbi</td>\n",
              "      <td>0</td>\n",
              "      <td>True</td>\n",
              "      <td>GeoData Consultants Ltd</td>\n",
              "      <td>NaN</td>\n",
              "      <td>NaN</td>\n",
              "      <td>True</td>\n",
              "      <td>0</td>\n",
              "      <td>gravity</td>\n",
              "      <td>gravity</td>\n",
              "      <td>gravity</td>\n",
              "      <td>other</td>\n",
              "      <td>other</td>\n",
              "      <td>never pay</td>\n",
              "      <td>never pay</td>\n",
              "      <td>soft</td>\n",
              "      <td>good</td>\n",
              "      <td>seasonal</td>\n",
              "      <td>seasonal</td>\n",
              "      <td>rainwater harvesting</td>\n",
              "      <td>rainwater harvesting</td>\n",
              "      <td>surface</td>\n",
              "      <td>communal standpipe</td>\n",
              "      <td>communal standpipe</td>\n",
              "    </tr>\n",
              "  </tbody>\n",
              "</table>\n",
              "</div>"
            ],
            "text/plain": [
              "      id    status_group  ...              waterpoint_type waterpoint_type_group\n",
              "0  69572      functional  ...           communal standpipe    communal standpipe\n",
              "1   8776      functional  ...           communal standpipe    communal standpipe\n",
              "2  34310      functional  ...  communal standpipe multiple    communal standpipe\n",
              "3  67743  non functional  ...  communal standpipe multiple    communal standpipe\n",
              "4  19728      functional  ...           communal standpipe    communal standpipe\n",
              "\n",
              "[5 rows x 41 columns]"
            ]
          },
          "metadata": {},
          "execution_count": 325
        }
      ]
    },
    {
      "cell_type": "markdown",
      "metadata": {
        "id": "C1eQrIEJp2kv"
      },
      "source": [
        "**Observations**\n",
        "- data_recorded, wpt_name, recorded_by shouldn't have an effect on the status of the pump\n",
        "- subvillage, region, region_code, district_code, lga, ward provides the geographical location of the pump\n"
      ]
    },
    {
      "cell_type": "code",
      "metadata": {
        "colab": {
          "base_uri": "https://localhost:8080/"
        },
        "id": "WKm6sTifg8ay",
        "outputId": "2a75050a-6dc1-41cc-f335-75b01a0fe33b"
      },
      "source": [
        "X.info()"
      ],
      "execution_count": 326,
      "outputs": [
        {
          "output_type": "stream",
          "name": "stdout",
          "text": [
            "<class 'pandas.core.frame.DataFrame'>\n",
            "RangeIndex: 59400 entries, 0 to 59399\n",
            "Data columns (total 41 columns):\n",
            " #   Column                 Non-Null Count  Dtype  \n",
            "---  ------                 --------------  -----  \n",
            " 0   id                     59400 non-null  int64  \n",
            " 1   status_group           59400 non-null  object \n",
            " 2   amount_tsh             59400 non-null  float64\n",
            " 3   date_recorded          59400 non-null  object \n",
            " 4   funder                 55765 non-null  object \n",
            " 5   gps_height             59400 non-null  int64  \n",
            " 6   installer              55745 non-null  object \n",
            " 7   longitude              59400 non-null  float64\n",
            " 8   latitude               59400 non-null  float64\n",
            " 9   wpt_name               59400 non-null  object \n",
            " 10  num_private            59400 non-null  int64  \n",
            " 11  basin                  59400 non-null  object \n",
            " 12  subvillage             59029 non-null  object \n",
            " 13  region                 59400 non-null  object \n",
            " 14  region_code            59400 non-null  int64  \n",
            " 15  district_code          59400 non-null  int64  \n",
            " 16  lga                    59400 non-null  object \n",
            " 17  ward                   59400 non-null  object \n",
            " 18  population             59400 non-null  int64  \n",
            " 19  public_meeting         56066 non-null  object \n",
            " 20  recorded_by            59400 non-null  object \n",
            " 21  scheme_management      55523 non-null  object \n",
            " 22  scheme_name            31234 non-null  object \n",
            " 23  permit                 56344 non-null  object \n",
            " 24  construction_year      59400 non-null  int64  \n",
            " 25  extraction_type        59400 non-null  object \n",
            " 26  extraction_type_group  59400 non-null  object \n",
            " 27  extraction_type_class  59400 non-null  object \n",
            " 28  management             59400 non-null  object \n",
            " 29  management_group       59400 non-null  object \n",
            " 30  payment                59400 non-null  object \n",
            " 31  payment_type           59400 non-null  object \n",
            " 32  water_quality          59400 non-null  object \n",
            " 33  quality_group          59400 non-null  object \n",
            " 34  quantity               59400 non-null  object \n",
            " 35  quantity_group         59400 non-null  object \n",
            " 36  source                 59400 non-null  object \n",
            " 37  source_type            59400 non-null  object \n",
            " 38  source_class           59400 non-null  object \n",
            " 39  waterpoint_type        59400 non-null  object \n",
            " 40  waterpoint_type_group  59400 non-null  object \n",
            "dtypes: float64(3), int64(7), object(31)\n",
            "memory usage: 18.6+ MB\n"
          ]
        }
      ]
    },
    {
      "cell_type": "code",
      "metadata": {
        "colab": {
          "base_uri": "https://localhost:8080/",
          "height": 297
        },
        "id": "XS2LwBjuhJIL",
        "outputId": "5684158e-e175-42f2-c8ff-7543426a39b1"
      },
      "source": [
        "X.describe()"
      ],
      "execution_count": 327,
      "outputs": [
        {
          "output_type": "execute_result",
          "data": {
            "text/html": [
              "<div>\n",
              "<style scoped>\n",
              "    .dataframe tbody tr th:only-of-type {\n",
              "        vertical-align: middle;\n",
              "    }\n",
              "\n",
              "    .dataframe tbody tr th {\n",
              "        vertical-align: top;\n",
              "    }\n",
              "\n",
              "    .dataframe thead th {\n",
              "        text-align: right;\n",
              "    }\n",
              "</style>\n",
              "<table border=\"1\" class=\"dataframe\">\n",
              "  <thead>\n",
              "    <tr style=\"text-align: right;\">\n",
              "      <th></th>\n",
              "      <th>id</th>\n",
              "      <th>amount_tsh</th>\n",
              "      <th>gps_height</th>\n",
              "      <th>longitude</th>\n",
              "      <th>latitude</th>\n",
              "      <th>num_private</th>\n",
              "      <th>region_code</th>\n",
              "      <th>district_code</th>\n",
              "      <th>population</th>\n",
              "      <th>construction_year</th>\n",
              "    </tr>\n",
              "  </thead>\n",
              "  <tbody>\n",
              "    <tr>\n",
              "      <th>count</th>\n",
              "      <td>59400.000000</td>\n",
              "      <td>59400.000000</td>\n",
              "      <td>59400.000000</td>\n",
              "      <td>59400.000000</td>\n",
              "      <td>5.940000e+04</td>\n",
              "      <td>59400.000000</td>\n",
              "      <td>59400.000000</td>\n",
              "      <td>59400.000000</td>\n",
              "      <td>59400.000000</td>\n",
              "      <td>59400.000000</td>\n",
              "    </tr>\n",
              "    <tr>\n",
              "      <th>mean</th>\n",
              "      <td>37115.131768</td>\n",
              "      <td>317.650385</td>\n",
              "      <td>668.297239</td>\n",
              "      <td>34.077427</td>\n",
              "      <td>-5.706033e+00</td>\n",
              "      <td>0.474141</td>\n",
              "      <td>15.297003</td>\n",
              "      <td>5.629747</td>\n",
              "      <td>179.909983</td>\n",
              "      <td>1300.652475</td>\n",
              "    </tr>\n",
              "    <tr>\n",
              "      <th>std</th>\n",
              "      <td>21453.128371</td>\n",
              "      <td>2997.574558</td>\n",
              "      <td>693.116350</td>\n",
              "      <td>6.567432</td>\n",
              "      <td>2.946019e+00</td>\n",
              "      <td>12.236230</td>\n",
              "      <td>17.587406</td>\n",
              "      <td>9.633649</td>\n",
              "      <td>471.482176</td>\n",
              "      <td>951.620547</td>\n",
              "    </tr>\n",
              "    <tr>\n",
              "      <th>min</th>\n",
              "      <td>0.000000</td>\n",
              "      <td>0.000000</td>\n",
              "      <td>-90.000000</td>\n",
              "      <td>0.000000</td>\n",
              "      <td>-1.164944e+01</td>\n",
              "      <td>0.000000</td>\n",
              "      <td>1.000000</td>\n",
              "      <td>0.000000</td>\n",
              "      <td>0.000000</td>\n",
              "      <td>0.000000</td>\n",
              "    </tr>\n",
              "    <tr>\n",
              "      <th>25%</th>\n",
              "      <td>18519.750000</td>\n",
              "      <td>0.000000</td>\n",
              "      <td>0.000000</td>\n",
              "      <td>33.090347</td>\n",
              "      <td>-8.540621e+00</td>\n",
              "      <td>0.000000</td>\n",
              "      <td>5.000000</td>\n",
              "      <td>2.000000</td>\n",
              "      <td>0.000000</td>\n",
              "      <td>0.000000</td>\n",
              "    </tr>\n",
              "    <tr>\n",
              "      <th>50%</th>\n",
              "      <td>37061.500000</td>\n",
              "      <td>0.000000</td>\n",
              "      <td>369.000000</td>\n",
              "      <td>34.908743</td>\n",
              "      <td>-5.021597e+00</td>\n",
              "      <td>0.000000</td>\n",
              "      <td>12.000000</td>\n",
              "      <td>3.000000</td>\n",
              "      <td>25.000000</td>\n",
              "      <td>1986.000000</td>\n",
              "    </tr>\n",
              "    <tr>\n",
              "      <th>75%</th>\n",
              "      <td>55656.500000</td>\n",
              "      <td>20.000000</td>\n",
              "      <td>1319.250000</td>\n",
              "      <td>37.178387</td>\n",
              "      <td>-3.326156e+00</td>\n",
              "      <td>0.000000</td>\n",
              "      <td>17.000000</td>\n",
              "      <td>5.000000</td>\n",
              "      <td>215.000000</td>\n",
              "      <td>2004.000000</td>\n",
              "    </tr>\n",
              "    <tr>\n",
              "      <th>max</th>\n",
              "      <td>74247.000000</td>\n",
              "      <td>350000.000000</td>\n",
              "      <td>2770.000000</td>\n",
              "      <td>40.345193</td>\n",
              "      <td>-2.000000e-08</td>\n",
              "      <td>1776.000000</td>\n",
              "      <td>99.000000</td>\n",
              "      <td>80.000000</td>\n",
              "      <td>30500.000000</td>\n",
              "      <td>2013.000000</td>\n",
              "    </tr>\n",
              "  </tbody>\n",
              "</table>\n",
              "</div>"
            ],
            "text/plain": [
              "                 id     amount_tsh  ...    population  construction_year\n",
              "count  59400.000000   59400.000000  ...  59400.000000       59400.000000\n",
              "mean   37115.131768     317.650385  ...    179.909983        1300.652475\n",
              "std    21453.128371    2997.574558  ...    471.482176         951.620547\n",
              "min        0.000000       0.000000  ...      0.000000           0.000000\n",
              "25%    18519.750000       0.000000  ...      0.000000           0.000000\n",
              "50%    37061.500000       0.000000  ...     25.000000        1986.000000\n",
              "75%    55656.500000      20.000000  ...    215.000000        2004.000000\n",
              "max    74247.000000  350000.000000  ...  30500.000000        2013.000000\n",
              "\n",
              "[8 rows x 10 columns]"
            ]
          },
          "metadata": {},
          "execution_count": 327
        }
      ]
    },
    {
      "cell_type": "markdown",
      "metadata": {
        "id": "qr8tdej-7duG"
      },
      "source": [
        "### Missing Values"
      ]
    },
    {
      "cell_type": "code",
      "metadata": {
        "colab": {
          "base_uri": "https://localhost:8080/"
        },
        "id": "2mMGcwo8LV_F",
        "outputId": "0ef54388-46f7-462c-8e21-a7cfb5509bb1"
      },
      "source": [
        "X.isnull().sum()"
      ],
      "execution_count": 328,
      "outputs": [
        {
          "output_type": "execute_result",
          "data": {
            "text/plain": [
              "id                           0\n",
              "status_group                 0\n",
              "amount_tsh                   0\n",
              "date_recorded                0\n",
              "funder                    3635\n",
              "gps_height                   0\n",
              "installer                 3655\n",
              "longitude                    0\n",
              "latitude                     0\n",
              "wpt_name                     0\n",
              "num_private                  0\n",
              "basin                        0\n",
              "subvillage                 371\n",
              "region                       0\n",
              "region_code                  0\n",
              "district_code                0\n",
              "lga                          0\n",
              "ward                         0\n",
              "population                   0\n",
              "public_meeting            3334\n",
              "recorded_by                  0\n",
              "scheme_management         3877\n",
              "scheme_name              28166\n",
              "permit                    3056\n",
              "construction_year            0\n",
              "extraction_type              0\n",
              "extraction_type_group        0\n",
              "extraction_type_class        0\n",
              "management                   0\n",
              "management_group             0\n",
              "payment                      0\n",
              "payment_type                 0\n",
              "water_quality                0\n",
              "quality_group                0\n",
              "quantity                     0\n",
              "quantity_group               0\n",
              "source                       0\n",
              "source_type                  0\n",
              "source_class                 0\n",
              "waterpoint_type              0\n",
              "waterpoint_type_group        0\n",
              "dtype: int64"
            ]
          },
          "metadata": {},
          "execution_count": 328
        }
      ]
    },
    {
      "cell_type": "markdown",
      "metadata": {
        "id": "yIVzUc1JqGIf"
      },
      "source": [
        "- Scheme_name column has many missing values, it would be good to drop the column."
      ]
    },
    {
      "cell_type": "markdown",
      "metadata": {
        "id": "8VSrO5PN4nMu"
      },
      "source": [
        "### Explore similarity between scheme_management, management, management_group columns"
      ]
    },
    {
      "cell_type": "code",
      "metadata": {
        "colab": {
          "base_uri": "https://localhost:8080/"
        },
        "id": "zMwdTsNk4v0M",
        "outputId": "2a549a4e-e84c-42ac-ddf3-9a29fa558caa"
      },
      "source": [
        "X['scheme_management'].value_counts()"
      ],
      "execution_count": 329,
      "outputs": [
        {
          "output_type": "execute_result",
          "data": {
            "text/plain": [
              "VWC                 36793\n",
              "WUG                  5206\n",
              "Water authority      3153\n",
              "WUA                  2883\n",
              "Water Board          2748\n",
              "Parastatal           1680\n",
              "Private operator     1063\n",
              "Company              1061\n",
              "Other                 766\n",
              "SWC                    97\n",
              "Trust                  72\n",
              "None                    1\n",
              "Name: scheme_management, dtype: int64"
            ]
          },
          "metadata": {},
          "execution_count": 329
        }
      ]
    },
    {
      "cell_type": "code",
      "metadata": {
        "colab": {
          "base_uri": "https://localhost:8080/"
        },
        "id": "oomw-zzg40Tn",
        "outputId": "d9bf5fa9-f6fa-4e29-8364-c68c3cce0fc6"
      },
      "source": [
        "X['management'].value_counts()"
      ],
      "execution_count": 330,
      "outputs": [
        {
          "output_type": "execute_result",
          "data": {
            "text/plain": [
              "vwc                 40507\n",
              "wug                  6515\n",
              "water board          2933\n",
              "wua                  2535\n",
              "private operator     1971\n",
              "parastatal           1768\n",
              "water authority       904\n",
              "other                 844\n",
              "company               685\n",
              "unknown               561\n",
              "other - school         99\n",
              "trust                  78\n",
              "Name: management, dtype: int64"
            ]
          },
          "metadata": {},
          "execution_count": 330
        }
      ]
    },
    {
      "cell_type": "code",
      "metadata": {
        "colab": {
          "base_uri": "https://localhost:8080/"
        },
        "id": "BZ9V_QVe45n-",
        "outputId": "0f41cb50-b9d2-4bbc-95b4-4701c04ac9d2"
      },
      "source": [
        "X['management_group'].value_counts()"
      ],
      "execution_count": 331,
      "outputs": [
        {
          "output_type": "execute_result",
          "data": {
            "text/plain": [
              "user-group    52490\n",
              "commercial     3638\n",
              "parastatal     1768\n",
              "other           943\n",
              "unknown         561\n",
              "Name: management_group, dtype: int64"
            ]
          },
          "metadata": {},
          "execution_count": 331
        }
      ]
    },
    {
      "cell_type": "code",
      "metadata": {
        "colab": {
          "base_uri": "https://localhost:8080/",
          "height": 280
        },
        "id": "oF9pwip-rPPv",
        "outputId": "d5563acc-6ee2-4dc5-8657-a0fb39bf410d"
      },
      "source": [
        "ax = sns.countplot(x='scheme_management', hue=\"status_group\", data=X)"
      ],
      "execution_count": 332,
      "outputs": [
        {
          "output_type": "display_data",
          "data": {
            "image/png": "[encoded data removed]",
            "text/plain": [
              "<Figure size 864x288 with 1 Axes>"
            ]
          },
          "metadata": {
            "needs_background": "light"
          }
        }
      ]
    },
    {
      "cell_type": "code",
      "metadata": {
        "colab": {
          "base_uri": "https://localhost:8080/",
          "height": 279
        },
        "id": "K66m6STerRGj",
        "outputId": "13ff99b6-b2c5-41a1-a1fd-042b8ab7b7d6"
      },
      "source": [
        "ax = sns.countplot(x='management', hue=\"status_group\", data=X)"
      ],
      "execution_count": 333,
      "outputs": [
        {
          "output_type": "display_data",
          "data": {
            "image/png": "[encoded data removed]",
            "text/plain": [
              "<Figure size 864x288 with 1 Axes>"
            ]
          },
          "metadata": {
            "needs_background": "light"
          }
        }
      ]
    },
    {
      "cell_type": "code",
      "metadata": {
        "colab": {
          "base_uri": "https://localhost:8080/",
          "height": 280
        },
        "id": "vdouCeIMrUFF",
        "outputId": "69ebc34c-d676-4738-8c14-cc82c750f390"
      },
      "source": [
        "ax = sns.countplot(x='management_group', hue=\"status_group\", data=X)"
      ],
      "execution_count": 334,
      "outputs": [
        {
          "output_type": "display_data",
          "data": {
            "image/png": "[encoded data removed]",
            "text/plain": [
              "<Figure size 864x288 with 1 Axes>"
            ]
          },
          "metadata": {
            "needs_background": "light"
          }
        }
      ]
    },
    {
      "cell_type": "markdown",
      "metadata": {
        "id": "Ukng2H_97Nqg"
      },
      "source": [
        "scheme_management and management have almost same data except scheme_management has around 3000 missing values. Out of these two it would be better to keep only management column."
      ]
    },
    {
      "cell_type": "markdown",
      "metadata": {
        "id": "MnZilepE7rSZ"
      },
      "source": [
        "Futher, the management_group seems like a abstract version of the management column where the values in management column have been grouped together. Since management carries more details we intend to keeep the management column."
      ]
    },
    {
      "cell_type": "code",
      "metadata": {
        "id": "XHQGiSXPz5Mz"
      },
      "source": [
        "drop_cols = ['management_group', 'scheme_management']"
      ],
      "execution_count": 335,
      "outputs": []
    },
    {
      "cell_type": "markdown",
      "metadata": {
        "id": "wZvd1sTw7HXW"
      },
      "source": [
        "### Explore similarity between source, source_type, source_class columns"
      ]
    },
    {
      "cell_type": "code",
      "metadata": {
        "colab": {
          "base_uri": "https://localhost:8080/"
        },
        "id": "h0oeLJCVjE0W",
        "outputId": "4330b7dc-a86d-4bde-f747-099423a342fc"
      },
      "source": [
        "X[\"source\"].value_counts()"
      ],
      "execution_count": 336,
      "outputs": [
        {
          "output_type": "execute_result",
          "data": {
            "text/plain": [
              "spring                  17021\n",
              "shallow well            16824\n",
              "machine dbh             11075\n",
              "river                    9612\n",
              "rainwater harvesting     2295\n",
              "hand dtw                  874\n",
              "lake                      765\n",
              "dam                       656\n",
              "other                     212\n",
              "unknown                    66\n",
              "Name: source, dtype: int64"
            ]
          },
          "metadata": {},
          "execution_count": 336
        }
      ]
    },
    {
      "cell_type": "code",
      "metadata": {
        "colab": {
          "base_uri": "https://localhost:8080/"
        },
        "id": "3XuTWXRRjQBJ",
        "outputId": "638890ca-c1bd-4923-c808-24aa19c556c6"
      },
      "source": [
        "X[\"source_type\"].value_counts()"
      ],
      "execution_count": 337,
      "outputs": [
        {
          "output_type": "execute_result",
          "data": {
            "text/plain": [
              "spring                  17021\n",
              "shallow well            16824\n",
              "borehole                11949\n",
              "river/lake              10377\n",
              "rainwater harvesting     2295\n",
              "dam                       656\n",
              "other                     278\n",
              "Name: source_type, dtype: int64"
            ]
          },
          "metadata": {},
          "execution_count": 337
        }
      ]
    },
    {
      "cell_type": "code",
      "metadata": {
        "colab": {
          "base_uri": "https://localhost:8080/"
        },
        "id": "12dMzC7ojaAk",
        "outputId": "9043a8a7-f67b-4b49-d982-e23168ded064"
      },
      "source": [
        "X[\"source_class\"].value_counts()"
      ],
      "execution_count": 338,
      "outputs": [
        {
          "output_type": "execute_result",
          "data": {
            "text/plain": [
              "groundwater    45794\n",
              "surface        13328\n",
              "unknown          278\n",
              "Name: source_class, dtype: int64"
            ]
          },
          "metadata": {},
          "execution_count": 338
        }
      ]
    },
    {
      "cell_type": "code",
      "metadata": {
        "colab": {
          "base_uri": "https://localhost:8080/",
          "height": 280
        },
        "id": "VKLO1krAqoUj",
        "outputId": "cc126bf8-2fed-4044-d273-110ebe14e3d3"
      },
      "source": [
        "ax = sns.countplot(x='source_class', hue=\"status_group\", data=X)"
      ],
      "execution_count": 339,
      "outputs": [
        {
          "output_type": "display_data",
          "data": {
            "image/png": "[encoded data removed]",
            "text/plain": [
              "<Figure size 864x288 with 1 Axes>"
            ]
          },
          "metadata": {
            "needs_background": "light"
          }
        }
      ]
    },
    {
      "cell_type": "code",
      "metadata": {
        "colab": {
          "base_uri": "https://localhost:8080/",
          "height": 280
        },
        "id": "ibjLhgfTqv5u",
        "outputId": "f26364ad-0f45-434a-c371-b15ecf6e52b6"
      },
      "source": [
        "ax = sns.countplot(x='source_type', hue=\"status_group\", data=X)"
      ],
      "execution_count": 340,
      "outputs": [
        {
          "output_type": "display_data",
          "data": {
            "image/png": "[encoded data removed]",
            "text/plain": [
              "<Figure size 864x288 with 1 Axes>"
            ]
          },
          "metadata": {
            "needs_background": "light"
          }
        }
      ]
    },
    {
      "cell_type": "code",
      "metadata": {
        "colab": {
          "base_uri": "https://localhost:8080/",
          "height": 280
        },
        "id": "JRJyhxS4qzr0",
        "outputId": "2fd08a76-8f70-425a-d502-c8120d753966"
      },
      "source": [
        "ax = sns.countplot(x='source_class', hue=\"status_group\", data=X)"
      ],
      "execution_count": 341,
      "outputs": [
        {
          "output_type": "display_data",
          "data": {
            "image/png": "[encoded data removed]",
            "text/plain": [
              "<Figure size 864x288 with 1 Axes>"
            ]
          },
          "metadata": {
            "needs_background": "light"
          }
        }
      ]
    },
    {
      "cell_type": "markdown",
      "metadata": {
        "id": "sF274hvVjusY"
      },
      "source": [
        "source_type and source_type contains almost same information. Since source has more detailed data, we will be keeping that column."
      ]
    },
    {
      "cell_type": "code",
      "metadata": {
        "id": "OqcuTdbf0DMJ"
      },
      "source": [
        "drop_cols.extend([\"source_type\", \"source_class\"])"
      ],
      "execution_count": 342,
      "outputs": []
    },
    {
      "cell_type": "markdown",
      "metadata": {
        "id": "oQacBMRk8RQo"
      },
      "source": [
        "### Explore similarity between extraction_type, extraction_type_group, extraction_type_class columns"
      ]
    },
    {
      "cell_type": "code",
      "metadata": {
        "colab": {
          "base_uri": "https://localhost:8080/"
        },
        "id": "CsT9fowcjFU4",
        "outputId": "3a690419-057b-4976-c5aa-e5bcfc01647b"
      },
      "source": [
        "X[\"extraction_type\"].value_counts()"
      ],
      "execution_count": 343,
      "outputs": [
        {
          "output_type": "execute_result",
          "data": {
            "text/plain": [
              "gravity                      26780\n",
              "nira/tanira                   8154\n",
              "other                         6430\n",
              "submersible                   4764\n",
              "swn 80                        3670\n",
              "mono                          2865\n",
              "india mark ii                 2400\n",
              "afridev                       1770\n",
              "ksb                           1415\n",
              "other - rope pump              451\n",
              "other - swn 81                 229\n",
              "windmill                       117\n",
              "india mark iii                  98\n",
              "cemo                            90\n",
              "other - play pump               85\n",
              "walimi                          48\n",
              "climax                          32\n",
              "other - mkulima/shinyanga        2\n",
              "Name: extraction_type, dtype: int64"
            ]
          },
          "metadata": {},
          "execution_count": 343
        }
      ]
    },
    {
      "cell_type": "code",
      "metadata": {
        "colab": {
          "base_uri": "https://localhost:8080/"
        },
        "id": "xR7NIoM1uWfT",
        "outputId": "e2202a2f-7369-4496-9100-e1e94acb3690"
      },
      "source": [
        "X[\"extraction_type_group\"].value_counts()"
      ],
      "execution_count": 344,
      "outputs": [
        {
          "output_type": "execute_result",
          "data": {
            "text/plain": [
              "gravity            26780\n",
              "nira/tanira         8154\n",
              "other               6430\n",
              "submersible         6179\n",
              "swn 80              3670\n",
              "mono                2865\n",
              "india mark ii       2400\n",
              "afridev             1770\n",
              "rope pump            451\n",
              "other handpump       364\n",
              "other motorpump      122\n",
              "wind-powered         117\n",
              "india mark iii        98\n",
              "Name: extraction_type_group, dtype: int64"
            ]
          },
          "metadata": {},
          "execution_count": 344
        }
      ]
    },
    {
      "cell_type": "code",
      "metadata": {
        "colab": {
          "base_uri": "https://localhost:8080/"
        },
        "id": "NKUePVvwuWna",
        "outputId": "fc29a70c-366c-4820-d76f-ca2d320f9570"
      },
      "source": [
        "X[\"extraction_type_class\"].value_counts()"
      ],
      "execution_count": 345,
      "outputs": [
        {
          "output_type": "execute_result",
          "data": {
            "text/plain": [
              "gravity         26780\n",
              "handpump        16456\n",
              "other            6430\n",
              "submersible      6179\n",
              "motorpump        2987\n",
              "rope pump         451\n",
              "wind-powered      117\n",
              "Name: extraction_type_class, dtype: int64"
            ]
          },
          "metadata": {},
          "execution_count": 345
        }
      ]
    },
    {
      "cell_type": "code",
      "metadata": {
        "colab": {
          "base_uri": "https://localhost:8080/",
          "height": 280
        },
        "id": "9KzWAtuCrc3C",
        "outputId": "25be9733-ce4a-47c8-c7c4-71332e660b27"
      },
      "source": [
        "ax = sns.countplot(x='extraction_type', hue=\"status_group\", data=X)"
      ],
      "execution_count": 346,
      "outputs": [
        {
          "output_type": "display_data",
          "data": {
            "image/png": "[encoded data removed]",
            "text/plain": [
              "<Figure size 864x288 with 1 Axes>"
            ]
          },
          "metadata": {
            "needs_background": "light"
          }
        }
      ]
    },
    {
      "cell_type": "code",
      "metadata": {
        "colab": {
          "base_uri": "https://localhost:8080/",
          "height": 280
        },
        "id": "WM-xpLUurgIb",
        "outputId": "87cf0d24-31ce-42c6-927f-a48853ab45ab"
      },
      "source": [
        "ax = sns.countplot(x='extraction_type_group', hue=\"status_group\", data=X)"
      ],
      "execution_count": 347,
      "outputs": [
        {
          "output_type": "display_data",
          "data": {
            "image/png": "[encoded data removed]",
            "text/plain": [
              "<Figure size 864x288 with 1 Axes>"
            ]
          },
          "metadata": {
            "needs_background": "light"
          }
        }
      ]
    },
    {
      "cell_type": "code",
      "metadata": {
        "colab": {
          "base_uri": "https://localhost:8080/",
          "height": 280
        },
        "id": "DJjKGKUirumL",
        "outputId": "a69cb5bf-2231-4565-9d88-1fed3193a8b5"
      },
      "source": [
        "ax = sns.countplot(x='extraction_type_class', hue=\"status_group\", data=X)"
      ],
      "execution_count": 348,
      "outputs": [
        {
          "output_type": "display_data",
          "data": {
            "image/png": "[encoded data removed]",
            "text/plain": [
              "<Figure size 864x288 with 1 Axes>"
            ]
          },
          "metadata": {
            "needs_background": "light"
          }
        }
      ]
    },
    {
      "cell_type": "markdown",
      "metadata": {
        "id": "Wg6bINm8yLR6"
      },
      "source": [
        "Since first two columns have similar info and the third one has grouped info, only the extraction type group will be kept. Even though extraction class has more detailed data most value counts are small."
      ]
    },
    {
      "cell_type": "code",
      "metadata": {
        "id": "nGIPyVsC0QHA"
      },
      "source": [
        "drop_cols.extend([\"extraction_type\", \"extraction_type_class\"])"
      ],
      "execution_count": 349,
      "outputs": []
    },
    {
      "cell_type": "markdown",
      "metadata": {
        "id": "8nlPpei--fwv"
      },
      "source": [
        "### Explore similarity between quantity, quantity_group"
      ]
    },
    {
      "cell_type": "code",
      "metadata": {
        "colab": {
          "base_uri": "https://localhost:8080/"
        },
        "id": "qgh1EgX0uXDA",
        "outputId": "3afac224-7c40-4525-d162-0806243ab643"
      },
      "source": [
        "X[\"quantity\"].value_counts()"
      ],
      "execution_count": 350,
      "outputs": [
        {
          "output_type": "execute_result",
          "data": {
            "text/plain": [
              "enough          33186\n",
              "insufficient    15129\n",
              "dry              6246\n",
              "seasonal         4050\n",
              "unknown           789\n",
              "Name: quantity, dtype: int64"
            ]
          },
          "metadata": {},
          "execution_count": 350
        }
      ]
    },
    {
      "cell_type": "code",
      "metadata": {
        "colab": {
          "base_uri": "https://localhost:8080/"
        },
        "id": "1pcGvWQjuX3G",
        "outputId": "2774dce7-b50f-41a8-88f8-f0da05f4fa47"
      },
      "source": [
        "X[\"quantity_group\"].value_counts()"
      ],
      "execution_count": 351,
      "outputs": [
        {
          "output_type": "execute_result",
          "data": {
            "text/plain": [
              "enough          33186\n",
              "insufficient    15129\n",
              "dry              6246\n",
              "seasonal         4050\n",
              "unknown           789\n",
              "Name: quantity_group, dtype: int64"
            ]
          },
          "metadata": {},
          "execution_count": 351
        }
      ]
    },
    {
      "cell_type": "code",
      "metadata": {
        "colab": {
          "base_uri": "https://localhost:8080/",
          "height": 279
        },
        "id": "6ik5nATar3Iw",
        "outputId": "2e6848a6-8981-4d2a-8ae3-83ac99ba64cb"
      },
      "source": [
        "ax = sns.countplot(x='quantity', hue=\"status_group\", data=X)"
      ],
      "execution_count": 352,
      "outputs": [
        {
          "output_type": "display_data",
          "data": {
            "image/png": "[encoded data removed]",
            "text/plain": [
              "<Figure size 864x288 with 1 Axes>"
            ]
          },
          "metadata": {
            "needs_background": "light"
          }
        }
      ]
    },
    {
      "cell_type": "code",
      "metadata": {
        "colab": {
          "base_uri": "https://localhost:8080/",
          "height": 280
        },
        "id": "ifhIC4fkr3Nl",
        "outputId": "7a4a5ca7-80d9-450a-8a45-037128339e00"
      },
      "source": [
        "ax = sns.countplot(x='quantity_group', hue=\"status_group\", data=X)"
      ],
      "execution_count": 353,
      "outputs": [
        {
          "output_type": "display_data",
          "data": {
            "image/png": "[encoded data removed]",
            "text/plain": [
              "<Figure size 864x288 with 1 Axes>"
            ]
          },
          "metadata": {
            "needs_background": "light"
          }
        }
      ]
    },
    {
      "cell_type": "markdown",
      "metadata": {
        "id": "jRAmE9BIyyy4"
      },
      "source": [
        "Since the two columns have exact same info quantity column will be kept."
      ]
    },
    {
      "cell_type": "code",
      "metadata": {
        "id": "OBBd5-SG0Xi9"
      },
      "source": [
        "drop_cols.append(\"quantity_group\")"
      ],
      "execution_count": 354,
      "outputs": []
    },
    {
      "cell_type": "markdown",
      "metadata": {
        "id": "_vjRvfs3-jvm"
      },
      "source": [
        "### Explore similarity between water_quality, quality_group"
      ]
    },
    {
      "cell_type": "code",
      "metadata": {
        "colab": {
          "base_uri": "https://localhost:8080/"
        },
        "id": "rAvJMV2QuY0R",
        "outputId": "63281171-fa65-43e2-91dd-b8dbae5a01c5"
      },
      "source": [
        "X[\"water_quality\"].value_counts()"
      ],
      "execution_count": 355,
      "outputs": [
        {
          "output_type": "execute_result",
          "data": {
            "text/plain": [
              "soft                  50818\n",
              "salty                  4856\n",
              "unknown                1876\n",
              "milky                   804\n",
              "coloured                490\n",
              "salty abandoned         339\n",
              "fluoride                200\n",
              "fluoride abandoned       17\n",
              "Name: water_quality, dtype: int64"
            ]
          },
          "metadata": {},
          "execution_count": 355
        }
      ]
    },
    {
      "cell_type": "code",
      "metadata": {
        "colab": {
          "base_uri": "https://localhost:8080/"
        },
        "id": "aqNxqdIquY4l",
        "outputId": "bd100167-46d7-4e29-d446-f9ac76bc8d75"
      },
      "source": [
        "X[\"quality_group\"].value_counts()"
      ],
      "execution_count": 356,
      "outputs": [
        {
          "output_type": "execute_result",
          "data": {
            "text/plain": [
              "good        50818\n",
              "salty        5195\n",
              "unknown      1876\n",
              "milky         804\n",
              "colored       490\n",
              "fluoride      217\n",
              "Name: quality_group, dtype: int64"
            ]
          },
          "metadata": {},
          "execution_count": 356
        }
      ]
    },
    {
      "cell_type": "code",
      "metadata": {
        "colab": {
          "base_uri": "https://localhost:8080/",
          "height": 283
        },
        "id": "NcV7XWy4r9wU",
        "outputId": "85896c9e-2ffb-476d-ab39-82d63c5bcbdf"
      },
      "source": [
        "ax = sns.countplot(x='water_quality', hue=\"status_group\", data=X)"
      ],
      "execution_count": 357,
      "outputs": [
        {
          "output_type": "display_data",
          "data": {
            "image/png": "[encoded data removed]",
            "text/plain": [
              "<Figure size 864x288 with 1 Axes>"
            ]
          },
          "metadata": {
            "needs_background": "light"
          }
        }
      ]
    },
    {
      "cell_type": "code",
      "metadata": {
        "colab": {
          "base_uri": "https://localhost:8080/",
          "height": 283
        },
        "id": "LrUk9zEar9yz",
        "outputId": "33ab6b98-746c-4862-e126-f2a0566293b4"
      },
      "source": [
        "ax = sns.countplot(x='quality_group', hue=\"status_group\", data=X)"
      ],
      "execution_count": 358,
      "outputs": [
        {
          "output_type": "display_data",
          "data": {
            "image/png": "[encoded data removed]",
            "text/plain": [
              "<Figure size 864x288 with 1 Axes>"
            ]
          },
          "metadata": {
            "needs_background": "light"
          }
        }
      ]
    },
    {
      "cell_type": "markdown",
      "metadata": {
        "id": "dgE6VPzUzCOp"
      },
      "source": [
        "Since these two have almost exact same info and water_quality column has it more detailed we will keep water_quality column."
      ]
    },
    {
      "cell_type": "code",
      "metadata": {
        "id": "kIGrDbrI0dBl"
      },
      "source": [
        "drop_cols.append(\"quality_group\")"
      ],
      "execution_count": 359,
      "outputs": []
    },
    {
      "cell_type": "markdown",
      "metadata": {
        "id": "QaqSUCke-p9z"
      },
      "source": [
        "### Explore similarity between waterpoint_type, waterpoint_type_group"
      ]
    },
    {
      "cell_type": "code",
      "metadata": {
        "colab": {
          "base_uri": "https://localhost:8080/"
        },
        "id": "s_ksGuMnuaMD",
        "outputId": "d6fb6139-0cdb-4d74-bf96-ecd61f91ef82"
      },
      "source": [
        "X[\"waterpoint_type\"].value_counts()"
      ],
      "execution_count": 360,
      "outputs": [
        {
          "output_type": "execute_result",
          "data": {
            "text/plain": [
              "communal standpipe             28522\n",
              "hand pump                      17488\n",
              "other                           6380\n",
              "communal standpipe multiple     6103\n",
              "improved spring                  784\n",
              "cattle trough                    116\n",
              "dam                                7\n",
              "Name: waterpoint_type, dtype: int64"
            ]
          },
          "metadata": {},
          "execution_count": 360
        }
      ]
    },
    {
      "cell_type": "code",
      "metadata": {
        "colab": {
          "base_uri": "https://localhost:8080/"
        },
        "id": "pn78awjvuaPS",
        "outputId": "88f756fb-500a-4b9c-f218-2a5e338ce86b"
      },
      "source": [
        "X[\"waterpoint_type_group\"].value_counts()"
      ],
      "execution_count": 361,
      "outputs": [
        {
          "output_type": "execute_result",
          "data": {
            "text/plain": [
              "communal standpipe    34625\n",
              "hand pump             17488\n",
              "other                  6380\n",
              "improved spring         784\n",
              "cattle trough           116\n",
              "dam                       7\n",
              "Name: waterpoint_type_group, dtype: int64"
            ]
          },
          "metadata": {},
          "execution_count": 361
        }
      ]
    },
    {
      "cell_type": "code",
      "metadata": {
        "colab": {
          "base_uri": "https://localhost:8080/",
          "height": 280
        },
        "id": "ij6e03kjsH7N",
        "outputId": "7d2a1b68-99c4-4a1e-9cbf-9f2a49b03633"
      },
      "source": [
        "ax = sns.countplot(x='waterpoint_type', hue=\"status_group\", data=X)"
      ],
      "execution_count": 362,
      "outputs": [
        {
          "output_type": "display_data",
          "data": {
            "image/png": "[encoded data removed]",
            "text/plain": [
              "<Figure size 864x288 with 1 Axes>"
            ]
          },
          "metadata": {
            "needs_background": "light"
          }
        }
      ]
    },
    {
      "cell_type": "code",
      "metadata": {
        "colab": {
          "base_uri": "https://localhost:8080/",
          "height": 280
        },
        "id": "7LoYQTy4sH97",
        "outputId": "88092971-6fec-46ac-f38c-777c452ab158"
      },
      "source": [
        "ax = sns.countplot(x='waterpoint_type_group', hue=\"status_group\", data=X)"
      ],
      "execution_count": 363,
      "outputs": [
        {
          "output_type": "display_data",
          "data": {
            "image/png": "[encoded data removed]",
            "text/plain": [
              "<Figure size 864x288 with 1 Axes>"
            ]
          },
          "metadata": {
            "needs_background": "light"
          }
        }
      ]
    },
    {
      "cell_type": "markdown",
      "metadata": {
        "id": "lcyTjtPezWc3"
      },
      "source": [
        "Out of these two, the more detailed column waterpoint_type will be kept."
      ]
    },
    {
      "cell_type": "code",
      "metadata": {
        "id": "-HiFx7uW0z2A"
      },
      "source": [
        "drop_cols.append(\"waterpoint_type_group\")"
      ],
      "execution_count": 364,
      "outputs": []
    },
    {
      "cell_type": "markdown",
      "metadata": {
        "id": "WJ30uVUa-3g6"
      },
      "source": [
        "### Explore similarity between payment, payment_type"
      ]
    },
    {
      "cell_type": "code",
      "metadata": {
        "colab": {
          "base_uri": "https://localhost:8080/"
        },
        "id": "ii37w0CLubD0",
        "outputId": "b6ed8eda-a696-4557-ac20-86568413384e"
      },
      "source": [
        "X[\"payment\"].value_counts()"
      ],
      "execution_count": 365,
      "outputs": [
        {
          "output_type": "execute_result",
          "data": {
            "text/plain": [
              "never pay                25348\n",
              "pay per bucket            8985\n",
              "pay monthly               8300\n",
              "unknown                   8157\n",
              "pay when scheme fails     3914\n",
              "pay annually              3642\n",
              "other                     1054\n",
              "Name: payment, dtype: int64"
            ]
          },
          "metadata": {},
          "execution_count": 365
        }
      ]
    },
    {
      "cell_type": "code",
      "metadata": {
        "colab": {
          "base_uri": "https://localhost:8080/"
        },
        "id": "uVAtasAGubGb",
        "outputId": "2bdcf9c1-8e03-4038-d389-2516873ce0d6"
      },
      "source": [
        "X[\"payment_type\"].value_counts()"
      ],
      "execution_count": 366,
      "outputs": [
        {
          "output_type": "execute_result",
          "data": {
            "text/plain": [
              "never pay     25348\n",
              "per bucket     8985\n",
              "monthly        8300\n",
              "unknown        8157\n",
              "on failure     3914\n",
              "annually       3642\n",
              "other          1054\n",
              "Name: payment_type, dtype: int64"
            ]
          },
          "metadata": {},
          "execution_count": 366
        }
      ]
    },
    {
      "cell_type": "code",
      "metadata": {
        "colab": {
          "base_uri": "https://localhost:8080/",
          "height": 279
        },
        "id": "Qix3nm9esd6S",
        "outputId": "8790e3ff-89d2-4134-f204-3b0b7439d978"
      },
      "source": [
        "ax = sns.countplot(x='payment', hue=\"status_group\", data=X)"
      ],
      "execution_count": 367,
      "outputs": [
        {
          "output_type": "display_data",
          "data": {
            "image/png": "[encoded data removed]",
            "text/plain": [
              "<Figure size 864x288 with 1 Axes>"
            ]
          },
          "metadata": {
            "needs_background": "light"
          }
        }
      ]
    },
    {
      "cell_type": "code",
      "metadata": {
        "colab": {
          "base_uri": "https://localhost:8080/",
          "height": 280
        },
        "id": "qdSrcAyGsd8l",
        "outputId": "33ece1ea-340e-4860-9ab9-64d459032ae8"
      },
      "source": [
        "ax = sns.countplot(x='payment_type', hue=\"status_group\", data=X)"
      ],
      "execution_count": 368,
      "outputs": [
        {
          "output_type": "display_data",
          "data": {
            "image/png": "[encoded data removed]",
            "text/plain": [
              "<Figure size 864x288 with 1 Axes>"
            ]
          },
          "metadata": {
            "needs_background": "light"
          }
        }
      ]
    },
    {
      "cell_type": "markdown",
      "metadata": {
        "id": "fIAWsBgIzew0"
      },
      "source": [
        "Exact same columns, payment will be kept.\n"
      ]
    },
    {
      "cell_type": "code",
      "metadata": {
        "id": "L6b-3A3n040S"
      },
      "source": [
        "drop_cols.append(\"payment_type\")"
      ],
      "execution_count": 369,
      "outputs": []
    },
    {
      "cell_type": "markdown",
      "metadata": {
        "id": "MWTlscuFLgOa"
      },
      "source": [
        "### Drop Columns"
      ]
    },
    {
      "cell_type": "code",
      "metadata": {
        "colab": {
          "base_uri": "https://localhost:8080/"
        },
        "id": "lxmnXQbg1JCq",
        "outputId": "a8dc4dfa-2231-490a-e039-b23a6ba50a72"
      },
      "source": [
        "cols = ['date_recorded', 'wpt_name', 'recorded_by', 'scheme_name','region_code', 'num_private']\n",
        "print(drop_cols)\n",
        "drop_cols.extend(cols)\n",
        "X = X.drop(drop_cols, axis=1)\n",
        "test = test.drop(drop_cols, axis=1)"
      ],
      "execution_count": 370,
      "outputs": [
        {
          "output_type": "stream",
          "name": "stdout",
          "text": [
            "['management_group', 'scheme_management', 'source_type', 'source_class', 'extraction_type', 'extraction_type_class', 'quantity_group', 'quality_group', 'waterpoint_type_group', 'payment_type']\n"
          ]
        }
      ]
    },
    {
      "cell_type": "markdown",
      "metadata": {
        "id": "sIp7tJTbJTzt"
      },
      "source": [
        "- Above columns are dropped along with the similar columns identified earlier, since they don't have any info related to functionality."
      ]
    },
    {
      "cell_type": "markdown",
      "metadata": {
        "id": "JLSf5yrzwQwP"
      },
      "source": [
        "### Region column"
      ]
    },
    {
      "cell_type": "code",
      "metadata": {
        "colab": {
          "base_uri": "https://localhost:8080/"
        },
        "id": "Xhrb8IH8wS2O",
        "outputId": "a4c39a47-3835-460a-ba8b-83653e22c1a6"
      },
      "source": [
        "X['region'].value_counts()"
      ],
      "execution_count": 371,
      "outputs": [
        {
          "output_type": "execute_result",
          "data": {
            "text/plain": [
              "Iringa           5294\n",
              "Shinyanga        4982\n",
              "Mbeya            4639\n",
              "Kilimanjaro      4379\n",
              "Morogoro         4006\n",
              "Arusha           3350\n",
              "Kagera           3316\n",
              "Mwanza           3102\n",
              "Kigoma           2816\n",
              "Ruvuma           2640\n",
              "Pwani            2635\n",
              "Tanga            2547\n",
              "Dodoma           2201\n",
              "Singida          2093\n",
              "Mara             1969\n",
              "Tabora           1959\n",
              "Rukwa            1808\n",
              "Mtwara           1730\n",
              "Manyara          1583\n",
              "Lindi            1546\n",
              "Dar es Salaam     805\n",
              "Name: region, dtype: int64"
            ]
          },
          "metadata": {},
          "execution_count": 371
        }
      ]
    },
    {
      "cell_type": "code",
      "metadata": {
        "colab": {
          "base_uri": "https://localhost:8080/",
          "height": 279
        },
        "id": "6arytsvjwZjP",
        "outputId": "60877de8-c3e5-416d-998e-25d481975dd3"
      },
      "source": [
        "ax = sns.countplot(x='region', hue=\"status_group\", data=X)"
      ],
      "execution_count": 372,
      "outputs": [
        {
          "output_type": "display_data",
          "data": {
            "image/png": "[encoded data removed]",
            "text/plain": [
              "<Figure size 864x288 with 1 Axes>"
            ]
          },
          "metadata": {
            "needs_background": "light"
          }
        }
      ]
    },
    {
      "cell_type": "markdown",
      "metadata": {
        "id": "LZyUNf_wg178"
      },
      "source": [
        "This provides a good overview of the funcationality againts geolocation"
      ]
    },
    {
      "cell_type": "markdown",
      "metadata": {
        "id": "twNB756btSlS"
      },
      "source": [
        "### construction_year column"
      ]
    },
    {
      "cell_type": "markdown",
      "metadata": {
        "id": "kTrBJnQayuJi"
      },
      "source": [
        "#### Value counts"
      ]
    },
    {
      "cell_type": "code",
      "metadata": {
        "colab": {
          "base_uri": "https://localhost:8080/"
        },
        "id": "E0xPmRXSyjeV",
        "outputId": "9fc206e3-ec6a-45f1-dbc8-0cb0938a3999"
      },
      "source": [
        "X['construction_year'].value_counts()"
      ],
      "execution_count": 373,
      "outputs": [
        {
          "output_type": "execute_result",
          "data": {
            "text/plain": [
              "0       20709\n",
              "2010     2645\n",
              "2008     2613\n",
              "2009     2533\n",
              "2000     2091\n",
              "2007     1587\n",
              "2006     1471\n",
              "2003     1286\n",
              "2011     1256\n",
              "2004     1123\n",
              "2012     1084\n",
              "2002     1075\n",
              "1978     1037\n",
              "1995     1014\n",
              "2005     1011\n",
              "1999      979\n",
              "1998      966\n",
              "1990      954\n",
              "1985      945\n",
              "1980      811\n",
              "1996      811\n",
              "1984      779\n",
              "1982      744\n",
              "1994      738\n",
              "1972      708\n",
              "1974      676\n",
              "1997      644\n",
              "1992      640\n",
              "1993      608\n",
              "2001      540\n",
              "1988      521\n",
              "1983      488\n",
              "1975      437\n",
              "1986      434\n",
              "1976      414\n",
              "1970      411\n",
              "1991      324\n",
              "1989      316\n",
              "1987      302\n",
              "1981      238\n",
              "1977      202\n",
              "1979      192\n",
              "1973      184\n",
              "2013      176\n",
              "1971      145\n",
              "1960      102\n",
              "1967       88\n",
              "1963       85\n",
              "1968       77\n",
              "1969       59\n",
              "1964       40\n",
              "1962       30\n",
              "1961       21\n",
              "1965       19\n",
              "1966       17\n",
              "Name: construction_year, dtype: int64"
            ]
          },
          "metadata": {},
          "execution_count": 373
        }
      ]
    },
    {
      "cell_type": "markdown",
      "metadata": {
        "id": "WnU5DeBit_zd"
      },
      "source": [
        "#### Replace 0 year value with median value"
      ]
    },
    {
      "cell_type": "code",
      "metadata": {
        "colab": {
          "base_uri": "https://localhost:8080/"
        },
        "id": "AfCi07V_twYH",
        "outputId": "c034d135-73c6-4aee-e0f3-9392dafee770"
      },
      "source": [
        "X.loc[X['construction_year']!=0].construction_year.median()"
      ],
      "execution_count": 374,
      "outputs": [
        {
          "output_type": "execute_result",
          "data": {
            "text/plain": [
              "2000.0"
            ]
          },
          "metadata": {},
          "execution_count": 374
        }
      ]
    },
    {
      "cell_type": "code",
      "metadata": {
        "colab": {
          "base_uri": "https://localhost:8080/"
        },
        "id": "oMreoh6WyXC-",
        "outputId": "dec57318-5dca-4029-9f6f-c4f645332c15"
      },
      "source": [
        "test.loc[test['construction_year']!=0].construction_year.median()"
      ],
      "execution_count": 375,
      "outputs": [
        {
          "output_type": "execute_result",
          "data": {
            "text/plain": [
              "2000.0"
            ]
          },
          "metadata": {},
          "execution_count": 375
        }
      ]
    },
    {
      "cell_type": "code",
      "metadata": {
        "id": "236YKRFtt8wY"
      },
      "source": [
        "X['construction_year'].replace(to_replace = 0, value = 2000, inplace=True)"
      ],
      "execution_count": 376,
      "outputs": []
    },
    {
      "cell_type": "code",
      "metadata": {
        "id": "S6nK0q9Gyb4j"
      },
      "source": [
        "test['construction_year'].replace(to_replace = 0, value = 2000, inplace=True)"
      ],
      "execution_count": 377,
      "outputs": []
    },
    {
      "cell_type": "markdown",
      "metadata": {
        "id": "Ja9SHRSdtiLz"
      },
      "source": [
        "#### New decade feature"
      ]
    },
    {
      "cell_type": "code",
      "metadata": {
        "id": "MHWfCXsrtcOR"
      },
      "source": [
        "for df in [X, test]:\n",
        "  df['decade'] = df['construction_year']\n",
        "  df['decade'].replace(to_replace = (1960,1961,1962,1963,1964,1965,1966,1967,1968,1969),\n",
        "                          value ='60s' , inplace=True)\n",
        "  df['decade'].replace(to_replace = (1970,1971,1972,1973,1974,1975,1976,1977,1978,1979),\n",
        "                          value ='70s' , inplace=True)\n",
        "  df['decade'].replace(to_replace = (1980,1981,1982,1983,1984,1985,1986,1987,1988,1989),\n",
        "                          value ='80s' , inplace=True)\n",
        "  df['decade'].replace(to_replace = (1990,1991,1992,1993,1994,1995,1996,1997,1998,1999),\n",
        "                          value ='90s' , inplace=True)\n",
        "  df['decade'].replace(to_replace = (2000,2001,2002,2003,2004,2005,2006,2007,2008,2009),\n",
        "                          value ='00s' , inplace=True)\n",
        "  df['decade'].replace(to_replace = (2010,2011,2012,2013),\n",
        "                          value ='10s' , inplace=True)"
      ],
      "execution_count": 378,
      "outputs": []
    },
    {
      "cell_type": "code",
      "metadata": {
        "colab": {
          "base_uri": "https://localhost:8080/"
        },
        "id": "TiGJS_X2to5o",
        "outputId": "75cd5222-096c-4e6b-eeed-6de550a1c328"
      },
      "source": [
        "X['decade'].value_counts()"
      ],
      "execution_count": 379,
      "outputs": [
        {
          "output_type": "execute_result",
          "data": {
            "text/plain": [
              "00s    36039\n",
              "90s     7678\n",
              "80s     5578\n",
              "10s     5161\n",
              "70s     4406\n",
              "60s      538\n",
              "Name: decade, dtype: int64"
            ]
          },
          "metadata": {},
          "execution_count": 379
        }
      ]
    },
    {
      "cell_type": "markdown",
      "metadata": {
        "id": "K3BeVZ2ROJ7Z"
      },
      "source": [
        "### amount_tsh column"
      ]
    },
    {
      "cell_type": "code",
      "metadata": {
        "colab": {
          "base_uri": "https://localhost:8080/"
        },
        "id": "T--0dG2vOJBe",
        "outputId": "7581f2d4-737d-472d-bbcc-547a4f8ccc4f"
      },
      "source": [
        "X['amount_tsh'].value_counts()"
      ],
      "execution_count": 380,
      "outputs": [
        {
          "output_type": "execute_result",
          "data": {
            "text/plain": [
              "0.0         41639\n",
              "500.0        3102\n",
              "50.0         2472\n",
              "1000.0       1488\n",
              "20.0         1463\n",
              "            ...  \n",
              "8500.0          1\n",
              "6300.0          1\n",
              "220.0           1\n",
              "138000.0        1\n",
              "12.0            1\n",
              "Name: amount_tsh, Length: 98, dtype: int64"
            ]
          },
          "metadata": {},
          "execution_count": 380
        }
      ]
    },
    {
      "cell_type": "markdown",
      "metadata": {
        "id": "N8rmbKSiQ-t6"
      },
      "source": [
        "Get the average value count"
      ]
    },
    {
      "cell_type": "code",
      "metadata": {
        "colab": {
          "base_uri": "https://localhost:8080/"
        },
        "id": "d2PfOLlHQqEf",
        "outputId": "e976f36a-e858-4e28-ccae-e77b9beaae7e"
      },
      "source": [
        "X['amount_tsh'].value_counts()/X['amount_tsh'].count()"
      ],
      "execution_count": 381,
      "outputs": [
        {
          "output_type": "execute_result",
          "data": {
            "text/plain": [
              "0.0         0.700993\n",
              "500.0       0.052222\n",
              "50.0        0.041616\n",
              "1000.0      0.025051\n",
              "20.0        0.024630\n",
              "              ...   \n",
              "8500.0      0.000017\n",
              "6300.0      0.000017\n",
              "220.0       0.000017\n",
              "138000.0    0.000017\n",
              "12.0        0.000017\n",
              "Name: amount_tsh, Length: 98, dtype: float64"
            ]
          },
          "metadata": {},
          "execution_count": 381
        }
      ]
    },
    {
      "cell_type": "markdown",
      "metadata": {
        "id": "wmo0B4vBRhO6"
      },
      "source": [
        "Since this doesn't provide any info for our model, amount_tsh column will be dropped."
      ]
    },
    {
      "cell_type": "code",
      "metadata": {
        "id": "nVOgg3EAR6iJ"
      },
      "source": [
        "X = X.drop(['amount_tsh'], axis=1)\n",
        "test = test.drop(['amount_tsh'], axis=1)"
      ],
      "execution_count": 382,
      "outputs": []
    },
    {
      "cell_type": "markdown",
      "metadata": {
        "id": "Nt2if73MTxWy"
      },
      "source": [
        "### Population Column"
      ]
    },
    {
      "cell_type": "code",
      "metadata": {
        "colab": {
          "base_uri": "https://localhost:8080/"
        },
        "id": "LnSfuH8RT0Wx",
        "outputId": "6e1fe987-d050-4bc6-edce-f575aac4701e"
      },
      "source": [
        "X['population'].value_counts()"
      ],
      "execution_count": 383,
      "outputs": [
        {
          "output_type": "execute_result",
          "data": {
            "text/plain": [
              "0       21381\n",
              "1        7025\n",
              "200      1940\n",
              "150      1892\n",
              "250      1681\n",
              "        ...  \n",
              "3241        1\n",
              "1960        1\n",
              "1685        1\n",
              "2248        1\n",
              "1439        1\n",
              "Name: population, Length: 1049, dtype: int64"
            ]
          },
          "metadata": {},
          "execution_count": 383
        }
      ]
    },
    {
      "cell_type": "markdown",
      "metadata": {
        "id": "6sXHcMpzWAw0"
      },
      "source": [
        "population has 0 values. Since it is odd to have 0 population replace it by its mean."
      ]
    },
    {
      "cell_type": "code",
      "metadata": {
        "colab": {
          "base_uri": "https://localhost:8080/"
        },
        "id": "4rsKefNkWdgB",
        "outputId": "96288a94-cde6-430c-a442-3ab10642259d"
      },
      "source": [
        "X.loc[X['population']!=0].population.mean()"
      ],
      "execution_count": 384,
      "outputs": [
        {
          "output_type": "execute_result",
          "data": {
            "text/plain": [
              "281.08716694284436"
            ]
          },
          "metadata": {},
          "execution_count": 384
        }
      ]
    },
    {
      "cell_type": "code",
      "metadata": {
        "id": "TXhQMPbCWxQh"
      },
      "source": [
        "X['population'].replace(to_replace = 0 , value =281, inplace=True) "
      ],
      "execution_count": 385,
      "outputs": []
    },
    {
      "cell_type": "code",
      "metadata": {
        "colab": {
          "base_uri": "https://localhost:8080/"
        },
        "id": "icQYp93Fl0TL",
        "outputId": "76ac9ce5-b411-49ac-fdee-a70846077586"
      },
      "source": [
        "test.loc[test['population']!=0].population.mean()"
      ],
      "execution_count": 386,
      "outputs": [
        {
          "output_type": "execute_result",
          "data": {
            "text/plain": [
              "290.9541342981803"
            ]
          },
          "metadata": {},
          "execution_count": 386
        }
      ]
    },
    {
      "cell_type": "code",
      "metadata": {
        "id": "haJoUFOmlv5y"
      },
      "source": [
        "test['population'].replace(to_replace = 0 , value =291, inplace=True) "
      ],
      "execution_count": 387,
      "outputs": []
    },
    {
      "cell_type": "markdown",
      "metadata": {
        "id": "wj7fKQGLW_4H"
      },
      "source": [
        "### subvillage column"
      ]
    },
    {
      "cell_type": "code",
      "metadata": {
        "colab": {
          "base_uri": "https://localhost:8080/"
        },
        "id": "N3OobG8cXDWX",
        "outputId": "3e581f3c-b3a5-46c3-9b71-6b44dd3dfc7e"
      },
      "source": [
        "X['subvillage'].value_counts()"
      ],
      "execution_count": 388,
      "outputs": [
        {
          "output_type": "execute_result",
          "data": {
            "text/plain": [
              "Madukani    508\n",
              "Shuleni     506\n",
              "Majengo     502\n",
              "Kati        373\n",
              "Mtakuja     262\n",
              "           ... \n",
              "Tenkini       1\n",
              "Brenda B      1\n",
              "Kalanzi       1\n",
              "Luilo         1\n",
              "Buhehe        1\n",
              "Name: subvillage, Length: 19287, dtype: int64"
            ]
          },
          "metadata": {},
          "execution_count": 388
        }
      ]
    },
    {
      "cell_type": "markdown",
      "metadata": {
        "id": "T2UKFt_SXHyS"
      },
      "source": [
        "Dropping this since we already have columns related to geolocation and it's hard to handle a column with such high-cardinality."
      ]
    },
    {
      "cell_type": "code",
      "metadata": {
        "id": "xqUbqdRZXUjj"
      },
      "source": [
        "X = X.drop(['subvillage'], axis=1)\n",
        "test = test.drop(['subvillage'], axis=1)"
      ],
      "execution_count": 389,
      "outputs": []
    },
    {
      "cell_type": "markdown",
      "metadata": {
        "id": "gWAxTQ55Xnf-"
      },
      "source": [
        "### public meeting column"
      ]
    },
    {
      "cell_type": "code",
      "metadata": {
        "colab": {
          "base_uri": "https://localhost:8080/"
        },
        "id": "MHKcRkWfXpDC",
        "outputId": "a6872aae-b699-44b5-865d-4253ff5cd936"
      },
      "source": [
        "X['public_meeting'].value_counts()"
      ],
      "execution_count": 390,
      "outputs": [
        {
          "output_type": "execute_result",
          "data": {
            "text/plain": [
              "True     51011\n",
              "False     5055\n",
              "Name: public_meeting, dtype: int64"
            ]
          },
          "metadata": {},
          "execution_count": 390
        }
      ]
    },
    {
      "cell_type": "code",
      "metadata": {
        "colab": {
          "base_uri": "https://localhost:8080/",
          "height": 280
        },
        "id": "--8O3ztJvl_Q",
        "outputId": "292220b1-6b56-4497-d195-198af9f85f36"
      },
      "source": [
        "ax = sns.countplot(x='public_meeting', hue=\"status_group\", data=X)"
      ],
      "execution_count": 391,
      "outputs": [
        {
          "output_type": "display_data",
          "data": {
            "image/png": "[encoded data removed]",
            "text/plain": [
              "<Figure size 864x288 with 1 Axes>"
            ]
          },
          "metadata": {
            "needs_background": "light"
          }
        }
      ]
    },
    {
      "cell_type": "code",
      "metadata": {
        "colab": {
          "base_uri": "https://localhost:8080/"
        },
        "id": "V3MEINmLmFNK",
        "outputId": "656f3e8d-c5df-47ac-bdd1-9c21cb5ea3ad"
      },
      "source": [
        "test['public_meeting'].value_counts()"
      ],
      "execution_count": 392,
      "outputs": [
        {
          "output_type": "execute_result",
          "data": {
            "text/plain": [
              "True     12738\n",
              "False     1291\n",
              "Name: public_meeting, dtype: int64"
            ]
          },
          "metadata": {},
          "execution_count": 392
        }
      ]
    },
    {
      "cell_type": "markdown",
      "metadata": {
        "id": "XaF9QpYwX-Ps"
      },
      "source": [
        "Fill missing values by the mode."
      ]
    },
    {
      "cell_type": "code",
      "metadata": {
        "id": "Fw7WsUfAXvNH"
      },
      "source": [
        "X['public_meeting'].fillna(value=True,inplace=True)\n",
        "test['public_meeting'].fillna(value=True,inplace=True)"
      ],
      "execution_count": 393,
      "outputs": []
    },
    {
      "cell_type": "markdown",
      "metadata": {
        "id": "zHIRoVFFYDNx"
      },
      "source": [
        "### permit column"
      ]
    },
    {
      "cell_type": "code",
      "metadata": {
        "colab": {
          "base_uri": "https://localhost:8080/"
        },
        "id": "jsc3kKnvYEut",
        "outputId": "fed08b81-e14e-4f20-c2ec-53fc795a5cd7"
      },
      "source": [
        "X['permit'].value_counts()"
      ],
      "execution_count": 394,
      "outputs": [
        {
          "output_type": "execute_result",
          "data": {
            "text/plain": [
              "True     38852\n",
              "False    17492\n",
              "Name: permit, dtype: int64"
            ]
          },
          "metadata": {},
          "execution_count": 394
        }
      ]
    },
    {
      "cell_type": "code",
      "metadata": {
        "colab": {
          "base_uri": "https://localhost:8080/",
          "height": 279
        },
        "id": "sgDd2bMAvvR_",
        "outputId": "90f2e0ec-0802-48bc-d4b2-02ca79a2c8fe"
      },
      "source": [
        "ax = sns.countplot(x='permit', hue=\"status_group\", data=X)"
      ],
      "execution_count": 395,
      "outputs": [
        {
          "output_type": "display_data",
          "data": {
            "image/png": "[encoded data removed]",
            "text/plain": [
              "<Figure size 864x288 with 1 Axes>"
            ]
          },
          "metadata": {
            "needs_background": "light"
          }
        }
      ]
    },
    {
      "cell_type": "code",
      "metadata": {
        "colab": {
          "base_uri": "https://localhost:8080/"
        },
        "id": "jnZCUytGmCcF",
        "outputId": "f1e82ba8-5d77-4039-f201-78397cc92789"
      },
      "source": [
        "test['permit'].value_counts()"
      ],
      "execution_count": 396,
      "outputs": [
        {
          "output_type": "execute_result",
          "data": {
            "text/plain": [
              "True     9754\n",
              "False    4359\n",
              "Name: permit, dtype: int64"
            ]
          },
          "metadata": {},
          "execution_count": 396
        }
      ]
    },
    {
      "cell_type": "code",
      "metadata": {
        "id": "LVbJOa2aYJFM"
      },
      "source": [
        "X['permit'].fillna(value=True,inplace=True)\n",
        "test['permit'].fillna(value=True,inplace=True)"
      ],
      "execution_count": 397,
      "outputs": []
    },
    {
      "cell_type": "markdown",
      "metadata": {
        "id": "ye-vJy8Q2bW8"
      },
      "source": [
        "### installer column"
      ]
    },
    {
      "cell_type": "code",
      "metadata": {
        "id": "8uNtFTnPdcXJ"
      },
      "source": [
        "for df in [X, test]:\n",
        "  df['installer'].fillna(value='Unknown',inplace=True)\n",
        "  df['installer'].replace(to_replace = '0', value ='Unknown' , inplace=True)"
      ],
      "execution_count": 398,
      "outputs": []
    },
    {
      "cell_type": "code",
      "metadata": {
        "colab": {
          "base_uri": "https://localhost:8080/"
        },
        "id": "ESK4_H78eCC9",
        "outputId": "9146f068-e222-45eb-eed2-554ee44d9f18"
      },
      "source": [
        "X['installer'].value_counts()"
      ],
      "execution_count": 399,
      "outputs": [
        {
          "output_type": "execute_result",
          "data": {
            "text/plain": [
              "DWE                     17402\n",
              "Unknown                  4435\n",
              "Government               2660\n",
              "Community                1674\n",
              "DANIDA                   1602\n",
              "                        ...  \n",
              "Carmatech                   1\n",
              "COMPASION INTERNATIO        1\n",
              "Private person              1\n",
              "RWI                         1\n",
              "ISSAA KANYANGE              1\n",
              "Name: installer, Length: 2053, dtype: int64"
            ]
          },
          "metadata": {},
          "execution_count": 399
        }
      ]
    },
    {
      "cell_type": "markdown",
      "metadata": {
        "id": "bdov-T8uixeD"
      },
      "source": [
        "### Geo - coordinates "
      ]
    },
    {
      "cell_type": "code",
      "metadata": {
        "id": "RzaF567yiwH7",
        "colab": {
          "base_uri": "https://localhost:8080/",
          "height": 677
        },
        "outputId": "9e851def-4f96-43cc-b1b7-0a934bdcaf13"
      },
      "source": [
        "plt.figure(figsize = (10,10))\n",
        "sns.scatterplot(X['longitude'], X['latitude'])"
      ],
      "execution_count": 400,
      "outputs": [
        {
          "output_type": "stream",
          "name": "stderr",
          "text": [
            "/usr/local/lib/python3.7/dist-packages/seaborn/_decorators.py:43: FutureWarning: Pass the following variables as keyword args: x, y. From version 0.12, the only valid positional argument will be `data`, and passing other arguments without an explicit keyword will result in an error or misinterpretation.\n",
            "  FutureWarning\n"
          ]
        },
        {
          "output_type": "execute_result",
          "data": {
            "text/plain": [
              "<matplotlib.axes._subplots.AxesSubplot at 0x7f18d2d83450>"
            ]
          },
          "metadata": {},
          "execution_count": 400
        },
        {
          "output_type": "display_data",
          "data": {
            "image/png": "[encoded data removed]",
            "text/plain": [
              "<Figure size 720x720 with 1 Axes>"
            ]
          },
          "metadata": {
            "needs_background": "light"
          }
        }
      ]
    },
    {
      "cell_type": "markdown",
      "metadata": {
        "id": "3uY5OrRH48mJ"
      },
      "source": [
        "- here we can see an outliers. This has to be further investigated."
      ]
    },
    {
      "cell_type": "markdown",
      "metadata": {
        "id": "ZHX37sWOaqTS"
      },
      "source": [
        "longitude 0 values lies outside out Tanzania according to the maps. The value 0 should be a data input error. Therefore it will be replaced by the mean."
      ]
    },
    {
      "cell_type": "code",
      "metadata": {
        "colab": {
          "base_uri": "https://localhost:8080/"
        },
        "id": "wRysh5GOaAs7",
        "outputId": "53614860-1f3d-4cae-933c-7af048e3b7c4"
      },
      "source": [
        "X.loc[X['longitude']!=0].longitude.mean()"
      ],
      "execution_count": 401,
      "outputs": [
        {
          "output_type": "execute_result",
          "data": {
            "text/plain": [
              "35.149669123888344"
            ]
          },
          "metadata": {},
          "execution_count": 401
        }
      ]
    },
    {
      "cell_type": "code",
      "metadata": {
        "id": "FY5p9dJA4-9D"
      },
      "source": [
        "X['longitude'].replace(to_replace = 0 , value =35.15, inplace=True)"
      ],
      "execution_count": 402,
      "outputs": []
    },
    {
      "cell_type": "code",
      "metadata": {
        "colab": {
          "base_uri": "https://localhost:8080/"
        },
        "id": "qWhGkxYZmJxu",
        "outputId": "26c63460-2a51-4502-865a-51f92c24d071"
      },
      "source": [
        "test.loc[test['longitude']!=0].longitude.mean()"
      ],
      "execution_count": 403,
      "outputs": [
        {
          "output_type": "execute_result",
          "data": {
            "text/plain": [
              "35.143113832348405"
            ]
          },
          "metadata": {},
          "execution_count": 403
        }
      ]
    },
    {
      "cell_type": "code",
      "metadata": {
        "id": "-23xK4V6mLdr"
      },
      "source": [
        "test['longitude'].replace(to_replace = 0 , value =35.15, inplace=True)"
      ],
      "execution_count": 404,
      "outputs": []
    },
    {
      "cell_type": "markdown",
      "metadata": {
        "id": "r5uT7kIk0spN"
      },
      "source": [
        "### funder column"
      ]
    },
    {
      "cell_type": "code",
      "metadata": {
        "id": "EKFgTy750up-"
      },
      "source": [
        "for df in [X, test]:\n",
        "  df['funder'].fillna(value='Unknown', inplace=True)\n",
        "  df['funder'].replace(to_replace='0', value ='Unknown', inplace=True)"
      ],
      "execution_count": 405,
      "outputs": []
    },
    {
      "cell_type": "markdown",
      "metadata": {
        "id": "hyhohlrRiTGu"
      },
      "source": [
        "### Correlation Matrix"
      ]
    },
    {
      "cell_type": "code",
      "metadata": {
        "id": "9VT_ETj7iVtF"
      },
      "source": [
        "import matplotlib\n",
        "import matplotlib.pyplot as plt\n",
        "import seaborn as sns\n",
        "import statsmodels.api as sm\n",
        "\n",
        "def get_cor(df,n,m):\n",
        "    plt.figure(figsize=(n,m))\n",
        "    cor = df.corr()\n",
        "    sns.heatmap(cor, annot=True, cmap=plt.cm.Reds)\n",
        "    plt.show()"
      ],
      "execution_count": 406,
      "outputs": []
    },
    {
      "cell_type": "code",
      "metadata": {
        "colab": {
          "base_uri": "https://localhost:8080/",
          "height": 1000
        },
        "id": "WOPge3xoiWko",
        "outputId": "571c2bd5-945f-4313-e5eb-316c75617ff7"
      },
      "source": [
        "get_cor(X,20,20)"
      ],
      "execution_count": 407,
      "outputs": [
        {
          "output_type": "display_data",
          "data": {
            "image/png": "[encoded data removed]",
            "text/plain": [
              "<Figure size 1440x1440 with 2 Axes>"
            ]
          },
          "metadata": {
            "needs_background": "light"
          }
        }
      ]
    },
    {
      "cell_type": "markdown",
      "metadata": {
        "id": "6ODREe1KjyYx"
      },
      "source": [
        "## Check for any missing values"
      ]
    },
    {
      "cell_type": "code",
      "metadata": {
        "colab": {
          "base_uri": "https://localhost:8080/"
        },
        "id": "4T738Erda8_S",
        "outputId": "2163f6d0-f26c-46e5-b360-ad92fff931b5"
      },
      "source": [
        "X.isnull().sum()"
      ],
      "execution_count": 408,
      "outputs": [
        {
          "output_type": "execute_result",
          "data": {
            "text/plain": [
              "id                       0\n",
              "status_group             0\n",
              "funder                   0\n",
              "gps_height               0\n",
              "installer                0\n",
              "longitude                0\n",
              "latitude                 0\n",
              "basin                    0\n",
              "region                   0\n",
              "district_code            0\n",
              "lga                      0\n",
              "ward                     0\n",
              "population               0\n",
              "public_meeting           0\n",
              "permit                   0\n",
              "construction_year        0\n",
              "extraction_type_group    0\n",
              "management               0\n",
              "payment                  0\n",
              "water_quality            0\n",
              "quantity                 0\n",
              "source                   0\n",
              "waterpoint_type          0\n",
              "decade                   0\n",
              "dtype: int64"
            ]
          },
          "metadata": {},
          "execution_count": 408
        }
      ]
    },
    {
      "cell_type": "code",
      "metadata": {
        "colab": {
          "base_uri": "https://localhost:8080/"
        },
        "id": "LkBGiNzyzaAV",
        "outputId": "e5913df5-1b84-4d19-fbe7-a07f98acd1d8"
      },
      "source": [
        "test.isnull().sum()"
      ],
      "execution_count": 409,
      "outputs": [
        {
          "output_type": "execute_result",
          "data": {
            "text/plain": [
              "id                       0\n",
              "funder                   0\n",
              "gps_height               0\n",
              "installer                0\n",
              "longitude                0\n",
              "latitude                 0\n",
              "basin                    0\n",
              "region                   0\n",
              "district_code            0\n",
              "lga                      0\n",
              "ward                     0\n",
              "population               0\n",
              "public_meeting           0\n",
              "permit                   0\n",
              "construction_year        0\n",
              "extraction_type_group    0\n",
              "management               0\n",
              "payment                  0\n",
              "water_quality            0\n",
              "quantity                 0\n",
              "source                   0\n",
              "waterpoint_type          0\n",
              "decade                   0\n",
              "dtype: int64"
            ]
          },
          "metadata": {},
          "execution_count": 409
        }
      ]
    },
    {
      "cell_type": "markdown",
      "metadata": {
        "id": "nGM93YUq24Y8"
      },
      "source": [
        "## X_train, y_train, X_test"
      ]
    },
    {
      "cell_type": "code",
      "metadata": {
        "id": "gTKAoPL22-ei"
      },
      "source": [
        "y_train = X.pop('status_group')\n",
        "X_train = X\n",
        "X_test = test"
      ],
      "execution_count": 410,
      "outputs": []
    },
    {
      "cell_type": "markdown",
      "metadata": {
        "id": "DEYf30wjJihn"
      },
      "source": [
        "## Categorical Columns Encoding"
      ]
    },
    {
      "cell_type": "code",
      "metadata": {
        "colab": {
          "base_uri": "https://localhost:8080/",
          "height": 343
        },
        "id": "bhVfAz5V3_GN",
        "outputId": "abc9ebde-be52-4856-90c0-7dbfdf619aff"
      },
      "source": [
        "X_train['isTrain'] = True\n",
        "X_test['isTrain'] = False\n",
        "temp_df = X_train.append(X_test)\n",
        "temp_df.head()"
      ],
      "execution_count": 411,
      "outputs": [
        {
          "output_type": "execute_result",
          "data": {
            "text/html": [
              "<div>\n",
              "<style scoped>\n",
              "    .dataframe tbody tr th:only-of-type {\n",
              "        vertical-align: middle;\n",
              "    }\n",
              "\n",
              "    .dataframe tbody tr th {\n",
              "        vertical-align: top;\n",
              "    }\n",
              "\n",
              "    .dataframe thead th {\n",
              "        text-align: right;\n",
              "    }\n",
              "</style>\n",
              "<table border=\"1\" class=\"dataframe\">\n",
              "  <thead>\n",
              "    <tr style=\"text-align: right;\">\n",
              "      <th></th>\n",
              "      <th>id</th>\n",
              "      <th>funder</th>\n",
              "      <th>gps_height</th>\n",
              "      <th>installer</th>\n",
              "      <th>longitude</th>\n",
              "      <th>latitude</th>\n",
              "      <th>basin</th>\n",
              "      <th>region</th>\n",
              "      <th>district_code</th>\n",
              "      <th>lga</th>\n",
              "      <th>ward</th>\n",
              "      <th>population</th>\n",
              "      <th>public_meeting</th>\n",
              "      <th>permit</th>\n",
              "      <th>construction_year</th>\n",
              "      <th>extraction_type_group</th>\n",
              "      <th>management</th>\n",
              "      <th>payment</th>\n",
              "      <th>water_quality</th>\n",
              "      <th>quantity</th>\n",
              "      <th>source</th>\n",
              "      <th>waterpoint_type</th>\n",
              "      <th>decade</th>\n",
              "      <th>isTrain</th>\n",
              "    </tr>\n",
              "  </thead>\n",
              "  <tbody>\n",
              "    <tr>\n",
              "      <th>0</th>\n",
              "      <td>69572</td>\n",
              "      <td>Roman</td>\n",
              "      <td>1390</td>\n",
              "      <td>Roman</td>\n",
              "      <td>34.938093</td>\n",
              "      <td>-9.856322</td>\n",
              "      <td>Lake Nyasa</td>\n",
              "      <td>Iringa</td>\n",
              "      <td>5</td>\n",
              "      <td>Ludewa</td>\n",
              "      <td>Mundindi</td>\n",
              "      <td>109</td>\n",
              "      <td>True</td>\n",
              "      <td>False</td>\n",
              "      <td>1999</td>\n",
              "      <td>gravity</td>\n",
              "      <td>vwc</td>\n",
              "      <td>pay annually</td>\n",
              "      <td>soft</td>\n",
              "      <td>enough</td>\n",
              "      <td>spring</td>\n",
              "      <td>communal standpipe</td>\n",
              "      <td>90s</td>\n",
              "      <td>True</td>\n",
              "    </tr>\n",
              "    <tr>\n",
              "      <th>1</th>\n",
              "      <td>8776</td>\n",
              "      <td>Grumeti</td>\n",
              "      <td>1399</td>\n",
              "      <td>GRUMETI</td>\n",
              "      <td>34.698766</td>\n",
              "      <td>-2.147466</td>\n",
              "      <td>Lake Victoria</td>\n",
              "      <td>Mara</td>\n",
              "      <td>2</td>\n",
              "      <td>Serengeti</td>\n",
              "      <td>Natta</td>\n",
              "      <td>280</td>\n",
              "      <td>True</td>\n",
              "      <td>True</td>\n",
              "      <td>2010</td>\n",
              "      <td>gravity</td>\n",
              "      <td>wug</td>\n",
              "      <td>never pay</td>\n",
              "      <td>soft</td>\n",
              "      <td>insufficient</td>\n",
              "      <td>rainwater harvesting</td>\n",
              "      <td>communal standpipe</td>\n",
              "      <td>10s</td>\n",
              "      <td>True</td>\n",
              "    </tr>\n",
              "    <tr>\n",
              "      <th>2</th>\n",
              "      <td>34310</td>\n",
              "      <td>Lottery Club</td>\n",
              "      <td>686</td>\n",
              "      <td>world vision</td>\n",
              "      <td>37.460664</td>\n",
              "      <td>-3.821329</td>\n",
              "      <td>Pangani</td>\n",
              "      <td>Manyara</td>\n",
              "      <td>4</td>\n",
              "      <td>Simanjiro</td>\n",
              "      <td>Ngorika</td>\n",
              "      <td>250</td>\n",
              "      <td>True</td>\n",
              "      <td>True</td>\n",
              "      <td>2009</td>\n",
              "      <td>gravity</td>\n",
              "      <td>vwc</td>\n",
              "      <td>pay per bucket</td>\n",
              "      <td>soft</td>\n",
              "      <td>enough</td>\n",
              "      <td>dam</td>\n",
              "      <td>communal standpipe multiple</td>\n",
              "      <td>00s</td>\n",
              "      <td>True</td>\n",
              "    </tr>\n",
              "    <tr>\n",
              "      <th>3</th>\n",
              "      <td>67743</td>\n",
              "      <td>Unicef</td>\n",
              "      <td>263</td>\n",
              "      <td>Unicef</td>\n",
              "      <td>38.486161</td>\n",
              "      <td>-11.155298</td>\n",
              "      <td>Ruvuma / Southern Coast</td>\n",
              "      <td>Mtwara</td>\n",
              "      <td>63</td>\n",
              "      <td>Nanyumbu</td>\n",
              "      <td>Nanyumbu</td>\n",
              "      <td>58</td>\n",
              "      <td>True</td>\n",
              "      <td>True</td>\n",
              "      <td>1986</td>\n",
              "      <td>submersible</td>\n",
              "      <td>vwc</td>\n",
              "      <td>never pay</td>\n",
              "      <td>soft</td>\n",
              "      <td>dry</td>\n",
              "      <td>machine dbh</td>\n",
              "      <td>communal standpipe multiple</td>\n",
              "      <td>80s</td>\n",
              "      <td>True</td>\n",
              "    </tr>\n",
              "    <tr>\n",
              "      <th>4</th>\n",
              "      <td>19728</td>\n",
              "      <td>Action In A</td>\n",
              "      <td>0</td>\n",
              "      <td>Artisan</td>\n",
              "      <td>31.130847</td>\n",
              "      <td>-1.825359</td>\n",
              "      <td>Lake Victoria</td>\n",
              "      <td>Kagera</td>\n",
              "      <td>1</td>\n",
              "      <td>Karagwe</td>\n",
              "      <td>Nyakasimbi</td>\n",
              "      <td>281</td>\n",
              "      <td>True</td>\n",
              "      <td>True</td>\n",
              "      <td>2000</td>\n",
              "      <td>gravity</td>\n",
              "      <td>other</td>\n",
              "      <td>never pay</td>\n",
              "      <td>soft</td>\n",
              "      <td>seasonal</td>\n",
              "      <td>rainwater harvesting</td>\n",
              "      <td>communal standpipe</td>\n",
              "      <td>00s</td>\n",
              "      <td>True</td>\n",
              "    </tr>\n",
              "  </tbody>\n",
              "</table>\n",
              "</div>"
            ],
            "text/plain": [
              "      id        funder  gps_height  ...              waterpoint_type  decade  isTrain\n",
              "0  69572         Roman        1390  ...           communal standpipe     90s     True\n",
              "1   8776       Grumeti        1399  ...           communal standpipe     10s     True\n",
              "2  34310  Lottery Club         686  ...  communal standpipe multiple     00s     True\n",
              "3  67743        Unicef         263  ...  communal standpipe multiple     80s     True\n",
              "4  19728   Action In A           0  ...           communal standpipe     00s     True\n",
              "\n",
              "[5 rows x 24 columns]"
            ]
          },
          "metadata": {},
          "execution_count": 411
        }
      ]
    },
    {
      "cell_type": "code",
      "metadata": {
        "colab": {
          "base_uri": "https://localhost:8080/"
        },
        "id": "Tr4zK_egT46t",
        "outputId": "7ed667a1-9c0a-4541-d2ea-f69b003db9a6"
      },
      "source": [
        "cat_cols = temp_df.columns[temp_df.dtypes==object].tolist()\n",
        "bool_cols = temp_df.columns[temp_df.dtypes==bool].tolist()\n",
        "num_cols = temp_df.columns[temp_df.dtypes==int].tolist() + temp_df.columns[temp_df.dtypes==float].tolist()\n",
        "\n",
        "print(cat_cols)\n",
        "print(bool_cols)\n",
        "print(num_cols)"
      ],
      "execution_count": 412,
      "outputs": [
        {
          "output_type": "stream",
          "name": "stdout",
          "text": [
            "['funder', 'installer', 'basin', 'region', 'lga', 'ward', 'extraction_type_group', 'management', 'payment', 'water_quality', 'quantity', 'source', 'waterpoint_type', 'decade']\n",
            "['public_meeting', 'permit', 'isTrain']\n",
            "['id', 'gps_height', 'district_code', 'population', 'construction_year', 'longitude', 'latitude']\n"
          ]
        }
      ]
    },
    {
      "cell_type": "code",
      "metadata": {
        "id": "sTCSY_H9x1YI"
      },
      "source": [
        "from sklearn.preprocessing import LabelEncoder\n",
        "\n",
        "for col in cat_cols:\n",
        "  le = LabelEncoder()\n",
        "  temp_df[col] = le.fit_transform(temp_df[col])\n",
        "\n",
        "for col in bool_cols:\n",
        "  temp_df[col] = temp_df[col].astype(int)"
      ],
      "execution_count": 413,
      "outputs": []
    },
    {
      "cell_type": "code",
      "metadata": {
        "id": "5E6PSvxZ58XN"
      },
      "source": [
        "X_train = temp_df.loc[temp_df['isTrain'] == True]\n",
        "X_train = X_train.drop(['isTrain'], axis=1)\n",
        "\n",
        "X_test = temp_df.loc[temp_df['isTrain'] == False]\n",
        "X_test = X_test.drop(['isTrain'], axis=1)"
      ],
      "execution_count": 414,
      "outputs": []
    },
    {
      "cell_type": "code",
      "metadata": {
        "colab": {
          "base_uri": "https://localhost:8080/",
          "height": 224
        },
        "id": "ldZSX-2SLRyb",
        "outputId": "4737f8e2-5c86-479e-f1a8-b35a385fc6c0"
      },
      "source": [
        "X_train.head()"
      ],
      "execution_count": 415,
      "outputs": [
        {
          "output_type": "execute_result",
          "data": {
            "text/html": [
              "<div>\n",
              "<style scoped>\n",
              "    .dataframe tbody tr th:only-of-type {\n",
              "        vertical-align: middle;\n",
              "    }\n",
              "\n",
              "    .dataframe tbody tr th {\n",
              "        vertical-align: top;\n",
              "    }\n",
              "\n",
              "    .dataframe thead th {\n",
              "        text-align: right;\n",
              "    }\n",
              "</style>\n",
              "<table border=\"1\" class=\"dataframe\">\n",
              "  <thead>\n",
              "    <tr style=\"text-align: right;\">\n",
              "      <th></th>\n",
              "      <th>id</th>\n",
              "      <th>funder</th>\n",
              "      <th>gps_height</th>\n",
              "      <th>installer</th>\n",
              "      <th>longitude</th>\n",
              "      <th>latitude</th>\n",
              "      <th>basin</th>\n",
              "      <th>region</th>\n",
              "      <th>district_code</th>\n",
              "      <th>lga</th>\n",
              "      <th>ward</th>\n",
              "      <th>population</th>\n",
              "      <th>public_meeting</th>\n",
              "      <th>permit</th>\n",
              "      <th>construction_year</th>\n",
              "      <th>extraction_type_group</th>\n",
              "      <th>management</th>\n",
              "      <th>payment</th>\n",
              "      <th>water_quality</th>\n",
              "      <th>quantity</th>\n",
              "      <th>source</th>\n",
              "      <th>waterpoint_type</th>\n",
              "      <th>decade</th>\n",
              "    </tr>\n",
              "  </thead>\n",
              "  <tbody>\n",
              "    <tr>\n",
              "      <th>0</th>\n",
              "      <td>69572</td>\n",
              "      <td>1547</td>\n",
              "      <td>1390</td>\n",
              "      <td>1648</td>\n",
              "      <td>34.938093</td>\n",
              "      <td>-9.856322</td>\n",
              "      <td>1</td>\n",
              "      <td>3</td>\n",
              "      <td>5</td>\n",
              "      <td>51</td>\n",
              "      <td>1429</td>\n",
              "      <td>109</td>\n",
              "      <td>1</td>\n",
              "      <td>0</td>\n",
              "      <td>1999</td>\n",
              "      <td>1</td>\n",
              "      <td>7</td>\n",
              "      <td>2</td>\n",
              "      <td>6</td>\n",
              "      <td>1</td>\n",
              "      <td>8</td>\n",
              "      <td>1</td>\n",
              "      <td>5</td>\n",
              "    </tr>\n",
              "    <tr>\n",
              "      <th>1</th>\n",
              "      <td>8776</td>\n",
              "      <td>521</td>\n",
              "      <td>1399</td>\n",
              "      <td>571</td>\n",
              "      <td>34.698766</td>\n",
              "      <td>-2.147466</td>\n",
              "      <td>4</td>\n",
              "      <td>9</td>\n",
              "      <td>2</td>\n",
              "      <td>103</td>\n",
              "      <td>1581</td>\n",
              "      <td>280</td>\n",
              "      <td>1</td>\n",
              "      <td>1</td>\n",
              "      <td>2010</td>\n",
              "      <td>1</td>\n",
              "      <td>11</td>\n",
              "      <td>0</td>\n",
              "      <td>6</td>\n",
              "      <td>2</td>\n",
              "      <td>5</td>\n",
              "      <td>1</td>\n",
              "      <td>1</td>\n",
              "    </tr>\n",
              "    <tr>\n",
              "      <th>2</th>\n",
              "      <td>34310</td>\n",
              "      <td>923</td>\n",
              "      <td>686</td>\n",
              "      <td>2317</td>\n",
              "      <td>37.460664</td>\n",
              "      <td>-3.821329</td>\n",
              "      <td>5</td>\n",
              "      <td>8</td>\n",
              "      <td>4</td>\n",
              "      <td>108</td>\n",
              "      <td>1629</td>\n",
              "      <td>250</td>\n",
              "      <td>1</td>\n",
              "      <td>1</td>\n",
              "      <td>2009</td>\n",
              "      <td>1</td>\n",
              "      <td>7</td>\n",
              "      <td>4</td>\n",
              "      <td>6</td>\n",
              "      <td>1</td>\n",
              "      <td>0</td>\n",
              "      <td>2</td>\n",
              "      <td>0</td>\n",
              "    </tr>\n",
              "    <tr>\n",
              "      <th>3</th>\n",
              "      <td>67743</td>\n",
              "      <td>1960</td>\n",
              "      <td>263</td>\n",
              "      <td>2034</td>\n",
              "      <td>38.486161</td>\n",
              "      <td>-11.155298</td>\n",
              "      <td>7</td>\n",
              "      <td>12</td>\n",
              "      <td>63</td>\n",
              "      <td>87</td>\n",
              "      <td>1576</td>\n",
              "      <td>58</td>\n",
              "      <td>1</td>\n",
              "      <td>1</td>\n",
              "      <td>1986</td>\n",
              "      <td>10</td>\n",
              "      <td>7</td>\n",
              "      <td>0</td>\n",
              "      <td>6</td>\n",
              "      <td>0</td>\n",
              "      <td>3</td>\n",
              "      <td>2</td>\n",
              "      <td>4</td>\n",
              "    </tr>\n",
              "    <tr>\n",
              "      <th>4</th>\n",
              "      <td>19728</td>\n",
              "      <td>19</td>\n",
              "      <td>0</td>\n",
              "      <td>131</td>\n",
              "      <td>31.130847</td>\n",
              "      <td>-1.825359</td>\n",
              "      <td>4</td>\n",
              "      <td>4</td>\n",
              "      <td>1</td>\n",
              "      <td>26</td>\n",
              "      <td>1692</td>\n",
              "      <td>281</td>\n",
              "      <td>1</td>\n",
              "      <td>1</td>\n",
              "      <td>2000</td>\n",
              "      <td>1</td>\n",
              "      <td>1</td>\n",
              "      <td>0</td>\n",
              "      <td>6</td>\n",
              "      <td>3</td>\n",
              "      <td>5</td>\n",
              "      <td>1</td>\n",
              "      <td>0</td>\n",
              "    </tr>\n",
              "  </tbody>\n",
              "</table>\n",
              "</div>"
            ],
            "text/plain": [
              "      id  funder  gps_height  ...  source  waterpoint_type  decade\n",
              "0  69572    1547        1390  ...       8                1       5\n",
              "1   8776     521        1399  ...       5                1       1\n",
              "2  34310     923         686  ...       0                2       0\n",
              "3  67743    1960         263  ...       3                2       4\n",
              "4  19728      19           0  ...       5                1       0\n",
              "\n",
              "[5 rows x 23 columns]"
            ]
          },
          "metadata": {},
          "execution_count": 415
        }
      ]
    },
    {
      "cell_type": "code",
      "metadata": {
        "colab": {
          "base_uri": "https://localhost:8080/"
        },
        "id": "5nZSV9DzM7bz",
        "outputId": "7a728d1f-d0d4-4651-d93d-41e7aee4ce5e"
      },
      "source": [
        "y_train.head()"
      ],
      "execution_count": 416,
      "outputs": [
        {
          "output_type": "execute_result",
          "data": {
            "text/plain": [
              "0        functional\n",
              "1        functional\n",
              "2        functional\n",
              "3    non functional\n",
              "4        functional\n",
              "Name: status_group, dtype: object"
            ]
          },
          "metadata": {},
          "execution_count": 416
        }
      ]
    },
    {
      "cell_type": "code",
      "metadata": {
        "id": "NqCdQKz98J3B"
      },
      "source": [
        "X_train = X_train.drop(['id'], axis=1)\n",
        "X_test = X_test.drop(['id'], axis=1)"
      ],
      "execution_count": 417,
      "outputs": []
    },
    {
      "cell_type": "markdown",
      "metadata": {
        "id": "GxHjtby8fyLm"
      },
      "source": [
        "## Apply Standardization"
      ]
    },
    {
      "cell_type": "code",
      "metadata": {
        "id": "Fl8BE6lmZs-W"
      },
      "source": [
        "from sklearn.preprocessing import StandardScaler\n",
        "\n",
        "scaler = StandardScaler()\n",
        "X_train = scaler.fit_transform(X_train)\n",
        "X_test = scaler.transform(X_test)"
      ],
      "execution_count": 418,
      "outputs": []
    },
    {
      "cell_type": "markdown",
      "metadata": {
        "id": "iu8DKs1fMqzV"
      },
      "source": [
        "## Train Model"
      ]
    },
    {
      "cell_type": "markdown",
      "metadata": {
        "id": "7nIrl2eqfvx1"
      },
      "source": [
        "### Run Grid Search"
      ]
    },
    {
      "cell_type": "code",
      "metadata": {
        "id": "Bqc3chGODrwT"
      },
      "source": [
        "xgb = XGBClassifier()\n",
        "xgbgrid = {\n",
        "   \"learning_rate\"    : [0.01, 0.1, 0.3] ,\n",
        "   \"max_depth\"        : [3, 4, 5, 6, 8], \n",
        "    \"n_estimators\"  : [100, 200, 400, 500],\n",
        "   \"gamma\"            : [ 0.0, 0.1, 0.2], \n",
        "    }\n",
        "\n",
        "\n",
        "gs1 = GridSearchCV(xgb,param_grid =xgbgrid, cv=5, scoring=\"accuracy\", n_jobs= 4)\n",
        "\n",
        "gs1.fit(X_train,y_train)\n",
        "gs1.best_score_"
      ],
      "execution_count": null,
      "outputs": []
    },
    {
      "cell_type": "code",
      "metadata": {
        "id": "_J0wqgFD7PXW"
      },
      "source": [
        "rfc = RandomForestClassifier()\n",
        "rfcgrid = {\n",
        "   'max_depth': [10, 20, 50],\n",
        "   'n_estimators': [200, 400, 800] \n",
        "    }\n",
        "\n",
        "gs2 = GridSearchCV(rfc,param_grid =rfcgrid, cv=5, scoring=\"accuracy\", n_jobs= 4)\n",
        "\n",
        "gs2.fit(X_train,y_train)\n",
        "gs2.best_score_"
      ],
      "execution_count": 420,
      "outputs": []
    },
    {
      "cell_type": "markdown",
      "metadata": {
        "id": "yvuD5mLGf6_A"
      },
      "source": [
        "### Train xgb and rfc"
      ]
    },
    {
      "cell_type": "code",
      "metadata": {
        "colab": {
          "base_uri": "https://localhost:8080/"
        },
        "id": "5o5Hkft1bLdo",
        "outputId": "9fccb08c-df29-4ddf-a6e3-953d791c857d"
      },
      "source": [
        "xgb1 = XGBClassifier(max_depth=8, learning_rate=0.3, n_estimators=100,gamma=0.2, tree_method='gpu_hist')\n",
        "xgb1.fit(X_train, y_train)"
      ],
      "execution_count": 422,
      "outputs": [
        {
          "output_type": "execute_result",
          "data": {
            "text/plain": [
              "XGBClassifier(base_score=0.5, booster='gbtree', colsample_bylevel=1,\n",
              "              colsample_bynode=1, colsample_bytree=1, gamma=0.2,\n",
              "              learning_rate=0.3, max_delta_step=0, max_depth=8,\n",
              "              min_child_weight=1, missing=None, n_estimators=100, n_jobs=1,\n",
              "              nthread=None, objective='multi:softprob', random_state=0,\n",
              "              reg_alpha=0, reg_lambda=1, scale_pos_weight=1, seed=None,\n",
              "              silent=None, subsample=1, tree_method='gpu_hist', verbosity=1)"
            ]
          },
          "metadata": {},
          "execution_count": 422
        }
      ]
    },
    {
      "cell_type": "code",
      "metadata": {
        "colab": {
          "base_uri": "https://localhost:8080/"
        },
        "id": "ghYxhSrdU-at",
        "outputId": "460347a0-25d8-4bce-8665-b6e0b14f2d9d"
      },
      "source": [
        "rfc1 = RandomForestClassifier(n_estimators=100, max_depth=8, random_state=1)\n",
        "rfc1.fit(X_train,y_train)"
      ],
      "execution_count": 429,
      "outputs": [
        {
          "output_type": "execute_result",
          "data": {
            "text/plain": [
              "RandomForestClassifier(bootstrap=True, ccp_alpha=0.0, class_weight=None,\n",
              "                       criterion='gini', max_depth=8, max_features='auto',\n",
              "                       max_leaf_nodes=None, max_samples=None,\n",
              "                       min_impurity_decrease=0.0, min_impurity_split=None,\n",
              "                       min_samples_leaf=1, min_samples_split=2,\n",
              "                       min_weight_fraction_leaf=0.0, n_estimators=100,\n",
              "                       n_jobs=None, oob_score=False, random_state=1, verbose=0,\n",
              "                       warm_start=False)"
            ]
          },
          "metadata": {},
          "execution_count": 429
        }
      ]
    },
    {
      "cell_type": "markdown",
      "metadata": {
        "id": "z5GKb8bDf9i2"
      },
      "source": [
        "### Check accuracy"
      ]
    },
    {
      "cell_type": "code",
      "metadata": {
        "colab": {
          "base_uri": "https://localhost:8080/"
        },
        "id": "OPjyCKBuaUSA",
        "outputId": "e2dfbab8-5a45-4e66-c461-bbb75d9a77ab"
      },
      "source": [
        "from sklearn.model_selection import cross_val_score\n",
        "from sklearn import metrics\n",
        "\n",
        "scores = cross_val_score(xgb1, X_train, y_train, cv=10, scoring='accuracy')\n",
        "scores"
      ],
      "execution_count": 427,
      "outputs": [
        {
          "output_type": "execute_result",
          "data": {
            "text/plain": [
              "array([0.81296296, 0.81700337, 0.80555556, 0.803367  , 0.81868687,\n",
              "       0.8016835 , 0.81279461, 0.8006734 , 0.80488215, 0.81414141])"
            ]
          },
          "metadata": {},
          "execution_count": 427
        }
      ]
    },
    {
      "cell_type": "code",
      "metadata": {
        "colab": {
          "base_uri": "https://localhost:8080/"
        },
        "id": "hZ7gATi1gFtz",
        "outputId": "8b22ed77-7040-42f9-9eb7-ef2cc5991512"
      },
      "source": [
        "scores = cross_val_score(rfc1, X_train, y_train, cv=10, scoring='accuracy')\n",
        "scores"
      ],
      "execution_count": 430,
      "outputs": [
        {
          "output_type": "execute_result",
          "data": {
            "text/plain": [
              "array([0.74242424, 0.73619529, 0.73737374, 0.73080808, 0.7483165 ,\n",
              "       0.73265993, 0.74023569, 0.73282828, 0.74074074, 0.74949495])"
            ]
          },
          "metadata": {},
          "execution_count": 430
        }
      ]
    },
    {
      "cell_type": "markdown",
      "metadata": {
        "id": "rCDuf1PbMscU"
      },
      "source": [
        "## Run predictions"
      ]
    },
    {
      "cell_type": "code",
      "metadata": {
        "id": "HpHjAfKbMt_B"
      },
      "source": [
        "preds = xgb1.predict(X_test)\n",
        "Id = test.id\n",
        "result_array = pd.DataFrame(np.array([Id, preds]).T, columns=['id', 'status_group'])\n",
        "result_array.to_csv('predictions.csv', index=False)"
      ],
      "execution_count": 426,
      "outputs": []
    }
  ]
}